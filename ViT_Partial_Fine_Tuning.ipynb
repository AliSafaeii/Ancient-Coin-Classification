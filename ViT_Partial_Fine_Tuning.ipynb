{
  "nbformat": 4,
  "nbformat_minor": 0,
  "metadata": {
    "colab": {
      "provenance": [],
      "machine_shape": "hm",
      "gpuType": "T4"
    },
    "kernelspec": {
      "name": "python3",
      "display_name": "Python 3"
    },
    "language_info": {
      "name": "python"
    },
    "accelerator": "GPU"
  },
  "cells": [
    {
      "cell_type": "code",
      "source": [
        "import matplotlib.pyplot as plt\n",
        "import torch\n",
        "import torchvision\n",
        "from torch import nn\n",
        "import os\n",
        "from torchvision import datasets, transforms\n",
        "from torch.utils.data import random_split, DataLoader\n",
        "from tqdm.auto import tqdm\n",
        "from typing import Dict, List, Tuple\n",
        "import random\n",
        "import numpy as np"
      ],
      "metadata": {
        "id": "_mj1FHttPwFk"
      },
      "execution_count": null,
      "outputs": []
    },
    {
      "cell_type": "code",
      "source": [
        "!pip install torchinfo"
      ],
      "metadata": {
        "colab": {
          "base_uri": "https://localhost:8080/"
        },
        "id": "XIut6zJ6IZrU",
        "outputId": "4e0e9528-77d0-43a3-b073-d75bd8a90d03"
      },
      "execution_count": null,
      "outputs": [
        {
          "output_type": "stream",
          "name": "stdout",
          "text": [
            "Collecting torchinfo\n",
            "  Downloading torchinfo-1.8.0-py3-none-any.whl.metadata (21 kB)\n",
            "Downloading torchinfo-1.8.0-py3-none-any.whl (23 kB)\n",
            "Installing collected packages: torchinfo\n",
            "Successfully installed torchinfo-1.8.0\n"
          ]
        }
      ]
    },
    {
      "cell_type": "code",
      "source": [
        "device = torch.device('cuda' if torch.cuda.is_available() else 'cpu')\n",
        "device"
      ],
      "metadata": {
        "colab": {
          "base_uri": "https://localhost:8080/"
        },
        "id": "vudE_3CZ8dBs",
        "outputId": "74812b1d-483a-4b10-cdb5-2a1d359d37d3"
      },
      "execution_count": null,
      "outputs": [
        {
          "output_type": "execute_result",
          "data": {
            "text/plain": [
              "device(type='cuda')"
            ]
          },
          "metadata": {},
          "execution_count": 3
        }
      ]
    },
    {
      "cell_type": "code",
      "source": [
        "# Get pretrained weights for ViT-Base\n",
        "pretrained_vit_weights = torchvision.models.ViT_B_16_Weights.DEFAULT\n",
        "\n",
        "# Setup a ViT model instance with pretrained weights\n",
        "pretrained_vit = torchvision.models.vit_b_16(weights=pretrained_vit_weights).to(device)\n",
        "\n",
        "# Freeze the base parameters\n",
        "for parameter in pretrained_vit.parameters():\n",
        "    parameter.requires_grad = False\n",
        "\n",
        "pretrained_vit.heads = nn.Linear(in_features=768, out_features=60).to(device)\n",
        "\n",
        "# Unfreeze the last two transformer encoder blocks\n",
        "num_blocks = len(pretrained_vit.encoder.layers)\n",
        "\n",
        "# Unfreeze the last one block\n",
        "for block in pretrained_vit.encoder.layers[-1:]:\n",
        "    for parameter in block.parameters():\n",
        "        parameter.requires_grad = True\n",
        "\n",
        "# Access the LayerNorm layer\n",
        "layernorm = pretrained_vit.encoder.ln\n",
        "\n",
        "# Unfreeze its parameters\n",
        "for parameter in layernorm.parameters():\n",
        "    parameter.requires_grad = True"
      ],
      "metadata": {
        "colab": {
          "base_uri": "https://localhost:8080/"
        },
        "id": "912ruSPQ8siV",
        "outputId": "3d14bfb2-c041-4ebe-ad4d-7fafb4596c02"
      },
      "execution_count": null,
      "outputs": [
        {
          "output_type": "stream",
          "name": "stderr",
          "text": [
            "Downloading: \"https://download.pytorch.org/models/vit_b_16-c867db91.pth\" to /root/.cache/torch/hub/checkpoints/vit_b_16-c867db91.pth\n",
            "100%|██████████| 330M/330M [00:01<00:00, 224MB/s]\n"
          ]
        }
      ]
    },
    {
      "cell_type": "code",
      "source": [
        "from torchinfo import summary\n",
        "\n",
        "summary(model=pretrained_vit,\n",
        "        input_size = (32, 3, 224, 224),\n",
        "        col_names=[\"input_size\", \"output_size\", \"num_params\", \"trainable\"])"
      ],
      "metadata": {
        "colab": {
          "base_uri": "https://localhost:8080/"
        },
        "id": "XxjcqgTH83Pj",
        "outputId": "b6302478-75fb-428c-cd8c-d77ff29ebe50"
      },
      "execution_count": null,
      "outputs": [
        {
          "output_type": "execute_result",
          "data": {
            "text/plain": [
              "=================================================================================================================================================\n",
              "Layer (type:depth-idx)                        Input Shape               Output Shape              Param #                   Trainable\n",
              "=================================================================================================================================================\n",
              "VisionTransformer                             [32, 3, 224, 224]         [32, 60]                  768                       Partial\n",
              "├─Conv2d: 1-1                                 [32, 3, 224, 224]         [32, 768, 14, 14]         (590,592)                 False\n",
              "├─Encoder: 1-2                                [32, 197, 768]            [32, 197, 768]            151,296                   Partial\n",
              "│    └─Dropout: 2-1                           [32, 197, 768]            [32, 197, 768]            --                        --\n",
              "│    └─Sequential: 2-2                        [32, 197, 768]            [32, 197, 768]            --                        Partial\n",
              "│    │    └─EncoderBlock: 3-1                 [32, 197, 768]            [32, 197, 768]            (7,087,872)               False\n",
              "│    │    └─EncoderBlock: 3-2                 [32, 197, 768]            [32, 197, 768]            (7,087,872)               False\n",
              "│    │    └─EncoderBlock: 3-3                 [32, 197, 768]            [32, 197, 768]            (7,087,872)               False\n",
              "│    │    └─EncoderBlock: 3-4                 [32, 197, 768]            [32, 197, 768]            (7,087,872)               False\n",
              "│    │    └─EncoderBlock: 3-5                 [32, 197, 768]            [32, 197, 768]            (7,087,872)               False\n",
              "│    │    └─EncoderBlock: 3-6                 [32, 197, 768]            [32, 197, 768]            (7,087,872)               False\n",
              "│    │    └─EncoderBlock: 3-7                 [32, 197, 768]            [32, 197, 768]            (7,087,872)               False\n",
              "│    │    └─EncoderBlock: 3-8                 [32, 197, 768]            [32, 197, 768]            (7,087,872)               False\n",
              "│    │    └─EncoderBlock: 3-9                 [32, 197, 768]            [32, 197, 768]            (7,087,872)               False\n",
              "│    │    └─EncoderBlock: 3-10                [32, 197, 768]            [32, 197, 768]            (7,087,872)               False\n",
              "│    │    └─EncoderBlock: 3-11                [32, 197, 768]            [32, 197, 768]            (7,087,872)               False\n",
              "│    │    └─EncoderBlock: 3-12                [32, 197, 768]            [32, 197, 768]            7,087,872                 True\n",
              "│    └─LayerNorm: 2-3                         [32, 197, 768]            [32, 197, 768]            1,536                     True\n",
              "├─Linear: 1-3                                 [32, 768]                 [32, 60]                  46,140                    True\n",
              "=================================================================================================================================================\n",
              "Total params: 85,844,796\n",
              "Trainable params: 7,135,548\n",
              "Non-trainable params: 78,709,248\n",
              "Total mult-adds (G): 5.52\n",
              "=================================================================================================================================================\n",
              "Input size (MB): 19.27\n",
              "Forward/backward pass size (MB): 3330.75\n",
              "Params size (MB): 229.38\n",
              "Estimated Total Size (MB): 3579.40\n",
              "================================================================================================================================================="
            ]
          },
          "metadata": {},
          "execution_count": 5
        }
      ]
    },
    {
      "cell_type": "code",
      "source": [
        "from google.colab import drive\n",
        "drive.mount('/content/drive')"
      ],
      "metadata": {
        "colab": {
          "base_uri": "https://localhost:8080/"
        },
        "id": "-oNJnm2h9lgu",
        "outputId": "663fc026-0001-4244-e5ec-1a035430467b"
      },
      "execution_count": null,
      "outputs": [
        {
          "output_type": "stream",
          "name": "stdout",
          "text": [
            "Mounted at /content/drive\n"
          ]
        }
      ]
    },
    {
      "cell_type": "code",
      "source": [
        "Train_dataset_path = '/content/drive/MyDrive/Reverse/Train'\n",
        "Validation_dataset_path = '/content/drive/MyDrive/Reverse/Validation'\n",
        "Test_dataset_path = '/content/drive/MyDrive/Reverse/Test'\n",
        "\n",
        "models_path='/content/drive/My Drive/Thesis_ViT_Models/ViT80percent.pth'"
      ],
      "metadata": {
        "id": "FPhiITA1ErhC"
      },
      "execution_count": null,
      "outputs": []
    },
    {
      "cell_type": "code",
      "source": [
        "pretrained_vit_transforms = pretrained_vit_weights.transforms()\n",
        "print(pretrained_vit_transforms)"
      ],
      "metadata": {
        "colab": {
          "base_uri": "https://localhost:8080/"
        },
        "id": "-C1yJTl-E1tz",
        "outputId": "a36be5d8-12c3-4cfa-f4d2-28fa29f56e23"
      },
      "execution_count": null,
      "outputs": [
        {
          "output_type": "stream",
          "name": "stdout",
          "text": [
            "ImageClassification(\n",
            "    crop_size=[224]\n",
            "    resize_size=[256]\n",
            "    mean=[0.485, 0.456, 0.406]\n",
            "    std=[0.229, 0.224, 0.225]\n",
            "    interpolation=InterpolationMode.BILINEAR\n",
            ")\n"
          ]
        }
      ]
    },
    {
      "cell_type": "code",
      "source": [
        "NUM_WORKERS = os.cpu_count()\n",
        "\n",
        "def create_dataloaders(\n",
        "    train_dir: str,\n",
        "    val_dir: str,\n",
        "    test_dir: str,\n",
        "    transform: transforms.Compose,\n",
        "    batch_size: int,\n",
        "    num_workers: int = NUM_WORKERS\n",
        "):\n",
        "    # Create datasets for each directory\n",
        "    train_dataset = datasets.ImageFolder(root=train_dir, transform=transform)\n",
        "    val_dataset = datasets.ImageFolder(root=val_dir, transform=transform)\n",
        "    test_dataset = datasets.ImageFolder(root=test_dir, transform=transform)\n",
        "\n",
        "    # Create dataloaders\n",
        "    train_dataloader = DataLoader(train_dataset, batch_size=batch_size, shuffle=True, num_workers=num_workers, pin_memory=True)\n",
        "    val_dataloader = DataLoader(val_dataset, batch_size=batch_size, shuffle=False, num_workers=num_workers, pin_memory=True)\n",
        "    test_dataloader = DataLoader(test_dataset, batch_size=batch_size, shuffle=False, num_workers=num_workers, pin_memory=True)\n",
        "\n",
        "    return train_dataloader, val_dataloader, test_dataloader"
      ],
      "metadata": {
        "id": "gHDC62_yE6q3"
      },
      "execution_count": null,
      "outputs": []
    },
    {
      "cell_type": "code",
      "source": [
        "train_dataloader_pretrained, val_dataloader_pretrained, test_dataloader_pretrained = create_dataloaders(\n",
        "    train_dir=Train_dataset_path,\n",
        "    val_dir=Validation_dataset_path,\n",
        "    test_dir=Test_dataset_path,\n",
        "    transform=pretrained_vit_transforms,\n",
        "    batch_size=32\n",
        ")"
      ],
      "metadata": {
        "id": "Y8PJ52jOFBX7"
      },
      "execution_count": null,
      "outputs": []
    },
    {
      "cell_type": "code",
      "source": [
        "def train_step(model: torch.nn.Module,\n",
        "               dataloader: torch.utils.data.DataLoader,\n",
        "               loss_fn: torch.nn.Module,\n",
        "               optimizer: torch.optim.Optimizer,\n",
        "               device: torch.device) -> Tuple[float, float]:\n",
        "    \"\"\"Trains a PyTorch model for a single epoch.\n",
        "\n",
        "    Turns a target PyTorch model to training mode and then\n",
        "    runs through all of the required training steps (forward\n",
        "    pass, loss calculation, optimizer step).\n",
        "\n",
        "    Args:\n",
        "    model: A PyTorch model to be trained.\n",
        "    dataloader: A DataLoader instance for the model to be trained on.\n",
        "    loss_fn: A PyTorch loss function to minimize.\n",
        "    optimizer: A PyTorch optimizer to help minimize the loss function.\n",
        "    device: A target device to compute on (e.g. \"cuda\" or \"cpu\").\n",
        "\n",
        "    Returns:\n",
        "    A tuple of training loss and training accuracy metrics.\n",
        "    In the form (train_loss, train_accuracy).\n",
        "    \"\"\"\n",
        "\n",
        "    model.train()\n",
        "    train_loss, train_acc = 0, 0\n",
        "\n",
        "    for batch, (X, y) in enumerate(dataloader):\n",
        "        X, y = X.to(device), y.to(device)\n",
        "        y_pred = model(X)\n",
        "        loss = loss_fn(y_pred, y)\n",
        "        train_loss += loss.item()\n",
        "        optimizer.zero_grad()\n",
        "        loss.backward()\n",
        "        optimizer.step()\n",
        "        y_pred_class = torch.argmax(torch.softmax(y_pred, dim=1), dim=1)\n",
        "        train_acc += (y_pred_class == y).sum().item()/len(y_pred)\n",
        "\n",
        "    train_loss = train_loss / len(dataloader)\n",
        "    train_acc = train_acc / len(dataloader)\n",
        "    return train_loss, train_acc\n",
        "\n",
        "def test_step(model: torch.nn.Module,\n",
        "              dataloader: torch.utils.data.DataLoader,\n",
        "              loss_fn: torch.nn.Module,\n",
        "              device: torch.device) -> Tuple[float, float]:\n",
        "    \"\"\"Tests a PyTorch model for a single epoch.\n",
        "\n",
        "    Turns a target PyTorch model to \"eval\" mode and then performs\n",
        "    a forward pass on a testing dataset.\n",
        "\n",
        "    Args:\n",
        "    model: A PyTorch model to be tested.\n",
        "    dataloader: A DataLoader instance for the model to be tested on.\n",
        "    loss_fn: A PyTorch loss function to calculate loss on the test data.\n",
        "    device: A target device to compute on (e.g. \"cuda\" or \"cpu\").\n",
        "\n",
        "    Returns:\n",
        "    A tuple of testing loss and testing accuracy metrics.\n",
        "    In the form (test_loss, test_accuracy)\n",
        "    \"\"\"\n",
        "\n",
        "    model.eval()\n",
        "    test_loss, test_acc = 0, 0\n",
        "\n",
        "    with torch.inference_mode():\n",
        "        for batch, (X, y) in enumerate(dataloader):\n",
        "            X, y = X.to(device), y.to(device)\n",
        "            test_pred_logits = model(X)\n",
        "            loss = loss_fn(test_pred_logits, y)\n",
        "            test_loss += loss.item()\n",
        "\n",
        "            test_pred_labels = test_pred_logits.argmax(dim=1)\n",
        "            test_acc += ((test_pred_labels == y).sum().item()/len(test_pred_labels))\n",
        "\n",
        "    test_loss = test_loss / len(dataloader)\n",
        "    test_acc = test_acc / len(dataloader)\n",
        "    return test_loss, test_acc\n",
        "\n",
        "def train(model: torch.nn.Module,\n",
        "                              train_dataloader: torch.utils.data.DataLoader,\n",
        "                              test_dataloader: torch.utils.data.DataLoader,\n",
        "                              optimizer: torch.optim.Optimizer,\n",
        "                              loss_fn: torch.nn.Module,\n",
        "                              epochs: int,\n",
        "                              device: torch.device,\n",
        "                              patience: int) -> Dict[str, List]:\n",
        "    \"\"\"\n",
        "    Trains and tests a PyTorch model with early stopping.\n",
        "\n",
        "    Args:\n",
        "    model: A PyTorch model to be trained and tested.\n",
        "    train_dataloader: A DataLoader instance for the model to be trained on.\n",
        "    test_dataloader: A DataLoader instance for the model to be tested on.\n",
        "    optimizer: A PyTorch optimizer to help minimize the loss function.\n",
        "    loss_fn: A PyTorch loss function to calculate loss on both datasets.\n",
        "    epochs: An integer indicating how many epochs to train for.\n",
        "    device: A target device to compute on (e.g. \"cuda\" or \"cpu\").\n",
        "    patience: An integer indicating how many epochs to wait for improvement\n",
        "              in validation loss before stopping early.\n",
        "\n",
        "    Returns:\n",
        "    A dictionary of training and testing loss as well as training and\n",
        "    testing accuracy metrics.\n",
        "    \"\"\"\n",
        "\n",
        "    results = {\"train_loss\": [],\n",
        "               \"train_acc\": [],\n",
        "               \"test_loss\": [],\n",
        "               \"test_acc\": []\n",
        "    }\n",
        "\n",
        "    model.to(device)\n",
        "\n",
        "    # Early stopping variables\n",
        "    best_loss = float('inf')\n",
        "    patience_counter = 0\n",
        "\n",
        "\n",
        "    for epoch in tqdm(range(epochs)):\n",
        "        train_loss, train_acc = train_step(model=model,\n",
        "                                           dataloader=train_dataloader,\n",
        "                                           loss_fn=loss_fn,\n",
        "                                           optimizer=optimizer,\n",
        "                                           device=device)\n",
        "        test_loss, test_acc = test_step(model=model,\n",
        "                                        dataloader=test_dataloader,\n",
        "                                        loss_fn=loss_fn,\n",
        "                                        device=device)\n",
        "\n",
        "\n",
        "        print(\n",
        "            f\"Epoch: {epoch+1} | \"\n",
        "            f\"train_loss: {train_loss:.4f} | \"\n",
        "            f\"train_acc: {train_acc:.4f} | \"\n",
        "            f\"test_loss: {test_loss:.4f} | \"\n",
        "            f\"test_acc: {test_acc:.4f}\"\n",
        "        )\n",
        "\n",
        "\n",
        "        results[\"train_loss\"].append(train_loss)\n",
        "        results[\"train_acc\"].append(train_acc)\n",
        "        results[\"test_loss\"].append(test_loss)\n",
        "        results[\"test_acc\"].append(test_acc)\n",
        "\n",
        "\n",
        "        if test_loss < best_loss:\n",
        "            best_loss = test_loss\n",
        "            patience_counter = 0\n",
        "        else:\n",
        "            patience_counter += 1\n",
        "\n",
        "        # Stop training if patience is exceeded\n",
        "        if patience_counter >= patience:\n",
        "            print(f\"Early stopping triggered after {epoch+1} epochs!\")\n",
        "            break\n",
        "\n",
        "    return results"
      ],
      "metadata": {
        "id": "a_zzlzxjFIgS"
      },
      "execution_count": null,
      "outputs": []
    },
    {
      "cell_type": "code",
      "source": [
        "#Loss function\n",
        "loss_fn = torch.nn.CrossEntropyLoss()"
      ],
      "metadata": {
        "id": "-_KmtAT39Yz_"
      },
      "execution_count": null,
      "outputs": []
    },
    {
      "cell_type": "code",
      "source": [
        "# Create optimizer and loss function\n",
        "optimizer = torch.optim.AdamW(params=pretrained_vit.parameters(),\n",
        "                             lr=1e-4)\n",
        "\n",
        "# Train the classifier head of the pretrained ViT feature extractor model\n",
        "pretrained_vit_results = train(model=pretrained_vit,\n",
        "                                      train_dataloader=train_dataloader_pretrained,\n",
        "                                      test_dataloader=val_dataloader_pretrained,\n",
        "                                      optimizer=optimizer,\n",
        "                                      loss_fn=loss_fn,\n",
        "                                      epochs=100,\n",
        "                                      device=device,\n",
        "                                      patience=3)"
      ],
      "metadata": {
        "colab": {
          "base_uri": "https://localhost:8080/",
          "height": 361,
          "referenced_widgets": [
            "7d4ef4b3de8c419c8e5ea235aacc8eca",
            "7d85685cde574daea0999d9c37ef6688",
            "cfd0ecc06e4c4d29a34aabe85922223a",
            "5c4dc3af62cb4c1cbb8d4fc978aa055b",
            "9a78f5caf3214cacb076fcd4e7665b0b",
            "e73e22b674804400a484fb6b3a6a66f3",
            "81a3340146a64ea8b5d122dc9c18b031",
            "97902763c7e14c1aa7391926a2f682c9",
            "8167a96943f54ed49e4d66fd11704c61",
            "11e5177be23b4f2090d279bbbd1ad2fb",
            "9859d5476390456fac573ef84d8d64b9"
          ]
        },
        "id": "xJOot8znFM6A",
        "outputId": "77c38404-e26e-42ff-9ae4-5a6e5d494ed9"
      },
      "execution_count": null,
      "outputs": [
        {
          "data": {
            "application/vnd.jupyter.widget-view+json": {
              "model_id": "7d4ef4b3de8c419c8e5ea235aacc8eca",
              "version_major": 2,
              "version_minor": 0
            },
            "text/plain": [
              "  0%|          | 0/100 [00:00<?, ?it/s]"
            ]
          },
          "metadata": {},
          "output_type": "display_data"
        },
        {
          "output_type": "stream",
          "name": "stdout",
          "text": [
            "Epoch: 1 | train_loss: 2.3421 | train_acc: 0.5479 | test_loss: 0.9761 | test_acc: 0.8852\n",
            "Epoch: 2 | train_loss: 0.5312 | train_acc: 0.9450 | test_loss: 0.4214 | test_acc: 0.9476\n",
            "Epoch: 3 | train_loss: 0.2221 | train_acc: 0.9794 | test_loss: 0.2747 | test_acc: 0.9573\n",
            "Epoch: 4 | train_loss: 0.1172 | train_acc: 0.9908 | test_loss: 0.2163 | test_acc: 0.9597\n",
            "Epoch: 5 | train_loss: 0.0710 | train_acc: 0.9933 | test_loss: 0.1757 | test_acc: 0.9679\n",
            "Epoch: 6 | train_loss: 0.0413 | train_acc: 0.9971 | test_loss: 0.1522 | test_acc: 0.9663\n",
            "Epoch: 7 | train_loss: 0.0253 | train_acc: 0.9992 | test_loss: 0.1457 | test_acc: 0.9720\n",
            "Epoch: 8 | train_loss: 0.0201 | train_acc: 0.9988 | test_loss: 0.1489 | test_acc: 0.9712\n",
            "Epoch: 9 | train_loss: 0.0159 | train_acc: 0.9990 | test_loss: 0.1355 | test_acc: 0.9720\n",
            "Epoch: 10 | train_loss: 0.0123 | train_acc: 0.9994 | test_loss: 0.1237 | test_acc: 0.9753\n",
            "Epoch: 11 | train_loss: 0.0098 | train_acc: 0.9992 | test_loss: 0.1282 | test_acc: 0.9729\n",
            "Epoch: 12 | train_loss: 0.0071 | train_acc: 0.9996 | test_loss: 0.1209 | test_acc: 0.9737\n",
            "Epoch: 13 | train_loss: 0.0067 | train_acc: 0.9994 | test_loss: 0.1220 | test_acc: 0.9729\n",
            "Epoch: 14 | train_loss: 0.0064 | train_acc: 0.9992 | test_loss: 0.1141 | test_acc: 0.9770\n",
            "Epoch: 15 | train_loss: 0.0045 | train_acc: 0.9994 | test_loss: 0.1158 | test_acc: 0.9729\n",
            "Epoch: 16 | train_loss: 0.0044 | train_acc: 0.9992 | test_loss: 0.1203 | test_acc: 0.9720\n",
            "Epoch: 17 | train_loss: 0.0042 | train_acc: 0.9994 | test_loss: 0.1157 | test_acc: 0.9753\n",
            "Early stopping triggered after 17 epochs!\n"
          ]
        }
      ]
    },
    {
      "cell_type": "code",
      "source": [
        "#Save the model\n",
        "torch.save(obj=pretrained_vit.state_dict(), f=models_path)"
      ],
      "metadata": {
        "id": "w8QQI_GunBPr"
      },
      "execution_count": null,
      "outputs": []
    },
    {
      "cell_type": "code",
      "source": [
        "# Plot loss curves of a model\n",
        "def plot_loss_curves(results):\n",
        "    \"\"\"Plots training curves of a results dictionary.\n",
        "\n",
        "    Args:\n",
        "        results (dict): dictionary containing list of values, e.g.\n",
        "            {\"train_loss\": [...],\n",
        "             \"train_acc\": [...],\n",
        "             \"test_loss\": [...],\n",
        "             \"test_acc\": [...]}\n",
        "    \"\"\"\n",
        "    loss = results[\"train_loss\"]\n",
        "    test_loss = results[\"test_loss\"]\n",
        "\n",
        "    accuracy = results[\"train_acc\"]\n",
        "    test_accuracy = results[\"test_acc\"]\n",
        "\n",
        "    epochs = range(len(results[\"train_loss\"]))\n",
        "\n",
        "    plt.figure(figsize=(15, 7))\n",
        "\n",
        "    # Plot loss\n",
        "    plt.subplot(1, 2, 1)\n",
        "    plt.plot(epochs, loss, label=\"train_loss\")\n",
        "    plt.plot(epochs, test_loss, label=\"test_loss\")\n",
        "    plt.title(\"Loss\")\n",
        "    plt.xlabel(\"Epochs\")\n",
        "    plt.legend()\n",
        "\n",
        "    # Plot accuracy\n",
        "    plt.subplot(1, 2, 2)\n",
        "    plt.plot(epochs, accuracy, label=\"train_accuracy\")\n",
        "    plt.plot(epochs, test_accuracy, label=\"test_accuracy\")\n",
        "    plt.title(\"Accuracy\")\n",
        "    plt.xlabel(\"Epochs\")\n",
        "    plt.legend()"
      ],
      "metadata": {
        "id": "uJ0h0Q75jpje"
      },
      "execution_count": null,
      "outputs": []
    },
    {
      "cell_type": "code",
      "source": [
        "plot_loss_curves(pretrained_vit_results)"
      ],
      "metadata": {
        "colab": {
          "base_uri": "https://localhost:8080/",
          "height": 641
        },
        "id": "t5PsVPl5jtXw",
        "outputId": "07f12b88-adfb-4e7d-c479-4775694635c7"
      },
      "execution_count": null,
      "outputs": [
        {
          "output_type": "display_data",
          "data": {
            "text/plain": [
              "<Figure size 1500x700 with 2 Axes>"
            ],
            "image/png": "[encoded data removed]"
          },
          "metadata": {}
        }
      ]
    },
    {
      "cell_type": "code",
      "source": [
        "# Load the model\n",
        "pretrained_vit.load_state_dict(torch.load(models_path))\n",
        "\n",
        "# Perform evaluation on the test set\n",
        "final_test_loss, final_test_acc = test_step(\n",
        "    model=pretrained_vit,\n",
        "    dataloader=test_dataloader_pretrained,\n",
        "    loss_fn=loss_fn,\n",
        "    device=device\n",
        ")\n",
        "\n",
        "print(f\"Final Test Loss: {final_test_loss:.4f}\")\n",
        "print(f\"Final Test Accuracy: {final_test_acc:.4f}\")"
      ],
      "metadata": {
        "id": "-yqnSVMR6wKm"
      },
      "execution_count": null,
      "outputs": []
    }
  ]
}