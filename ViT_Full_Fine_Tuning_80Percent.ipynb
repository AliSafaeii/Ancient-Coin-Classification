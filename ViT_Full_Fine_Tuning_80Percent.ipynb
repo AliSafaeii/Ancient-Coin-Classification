{
  "nbformat": 4,
  "nbformat_minor": 0,
  "metadata": {
    "colab": {
      "provenance": [],
      "gpuType": "T4"
    },
    "kernelspec": {
      "name": "python3",
      "display_name": "Python 3"
    },
    "language_info": {
      "name": "python"
    },
    "accelerator": "GPU"
  },
  "cells": [
    {
      "cell_type": "code",
      "execution_count": null,
      "metadata": {
        "id": "hpnGPVm56jyU"
      },
      "outputs": [],
      "source": [
        "import matplotlib.pyplot as plt\n",
        "import torch\n",
        "import torchvision\n",
        "from torch import nn\n",
        "import os\n",
        "from torchvision import datasets, transforms\n",
        "from torch.utils.data import random_split, DataLoader\n",
        "from tqdm.auto import tqdm\n",
        "from typing import Dict, List, Tuple\n",
        "import numpy as np\n",
        "from collections import Counter\n",
        "import random"
      ]
    },
    {
      "cell_type": "code",
      "source": [
        "!pip install torchinfo"
      ],
      "metadata": {
        "colab": {
          "base_uri": "https://localhost:8080/"
        },
        "id": "TAUqKDQD62De",
        "outputId": "e0d71860-42ef-40eb-8732-e2ee0015b78e"
      },
      "execution_count": null,
      "outputs": [
        {
          "output_type": "stream",
          "name": "stdout",
          "text": [
            "Collecting torchinfo\n",
            "  Downloading torchinfo-1.8.0-py3-none-any.whl.metadata (21 kB)\n",
            "Downloading torchinfo-1.8.0-py3-none-any.whl (23 kB)\n",
            "Installing collected packages: torchinfo\n",
            "Successfully installed torchinfo-1.8.0\n"
          ]
        }
      ]
    },
    {
      "cell_type": "code",
      "source": [
        "device = torch.device('cuda' if torch.cuda.is_available() else 'cpu')\n",
        "device"
      ],
      "metadata": {
        "colab": {
          "base_uri": "https://localhost:8080/"
        },
        "id": "dczuusIi641X",
        "outputId": "39d3c849-4029-4c3d-d315-555ad8f28adc"
      },
      "execution_count": null,
      "outputs": [
        {
          "output_type": "execute_result",
          "data": {
            "text/plain": [
              "device(type='cuda')"
            ]
          },
          "metadata": {},
          "execution_count": 3
        }
      ]
    },
    {
      "cell_type": "code",
      "source": [
        "# 1. Get pretrained weights for ViT-Base\n",
        "pretrained_vit_weights = torchvision.models.ViT_B_16_Weights.DEFAULT\n",
        "\n",
        "# 2. Setup a ViT model instance with pretrained weights\n",
        "pretrained_vit = torchvision.models.vit_b_16(weights=pretrained_vit_weights).to(device)\n",
        "\n",
        "# 3. Freeze the base parameters\n",
        "for parameter in pretrained_vit.parameters():\n",
        "    parameter.requires_grad = False\n",
        "\n",
        "pretrained_vit.heads = nn.Linear(in_features=768, out_features=60).to(device)\n",
        "\n",
        "# 5. Unfreeze the last two transformer encoder blocks\n",
        "# torchvision ViT has an attribute `encoder.layers` containing all transformer blocks\n",
        "num_blocks = len(pretrained_vit.encoder.layers)\n",
        "\n",
        "# Unfreeze the last one block\n",
        "for block in pretrained_vit.encoder.layers[-12:]:\n",
        "    for parameter in block.parameters():\n",
        "        parameter.requires_grad = True\n",
        "\n",
        "# Access the LayerNorm layer\n",
        "layernorm = pretrained_vit.encoder.ln\n",
        "\n",
        "# Unfreeze its parameters\n",
        "for parameter in layernorm.parameters():\n",
        "    parameter.requires_grad = True"
      ],
      "metadata": {
        "colab": {
          "base_uri": "https://localhost:8080/"
        },
        "id": "5HDo6MCt67T-",
        "outputId": "9362e342-5d08-4ab3-fca0-f95db434bbef"
      },
      "execution_count": null,
      "outputs": [
        {
          "output_type": "stream",
          "name": "stderr",
          "text": [
            "Downloading: \"https://download.pytorch.org/models/vit_b_16-c867db91.pth\" to /root/.cache/torch/hub/checkpoints/vit_b_16-c867db91.pth\n",
            "100%|██████████| 330M/330M [00:02<00:00, 172MB/s]\n"
          ]
        }
      ]
    },
    {
      "cell_type": "code",
      "source": [
        "from torchinfo import summary\n",
        "\n",
        "summary(model=pretrained_vit,\n",
        "        input_size = (32, 3, 224, 224),\n",
        "        col_names=[\"input_size\", \"output_size\", \"num_params\", \"trainable\"])"
      ],
      "metadata": {
        "colab": {
          "base_uri": "https://localhost:8080/"
        },
        "id": "feBzKDQ068MA",
        "outputId": "f8acdee7-aa8a-4b31-8e63-1f9d8a58fa74"
      },
      "execution_count": null,
      "outputs": [
        {
          "output_type": "execute_result",
          "data": {
            "text/plain": [
              "=================================================================================================================================================\n",
              "Layer (type:depth-idx)                        Input Shape               Output Shape              Param #                   Trainable\n",
              "=================================================================================================================================================\n",
              "VisionTransformer                             [32, 3, 224, 224]         [32, 60]                  768                       Partial\n",
              "├─Conv2d: 1-1                                 [32, 3, 224, 224]         [32, 768, 14, 14]         (590,592)                 False\n",
              "├─Encoder: 1-2                                [32, 197, 768]            [32, 197, 768]            151,296                   Partial\n",
              "│    └─Dropout: 2-1                           [32, 197, 768]            [32, 197, 768]            --                        --\n",
              "│    └─Sequential: 2-2                        [32, 197, 768]            [32, 197, 768]            --                        True\n",
              "│    │    └─EncoderBlock: 3-1                 [32, 197, 768]            [32, 197, 768]            7,087,872                 True\n",
              "│    │    └─EncoderBlock: 3-2                 [32, 197, 768]            [32, 197, 768]            7,087,872                 True\n",
              "│    │    └─EncoderBlock: 3-3                 [32, 197, 768]            [32, 197, 768]            7,087,872                 True\n",
              "│    │    └─EncoderBlock: 3-4                 [32, 197, 768]            [32, 197, 768]            7,087,872                 True\n",
              "│    │    └─EncoderBlock: 3-5                 [32, 197, 768]            [32, 197, 768]            7,087,872                 True\n",
              "│    │    └─EncoderBlock: 3-6                 [32, 197, 768]            [32, 197, 768]            7,087,872                 True\n",
              "│    │    └─EncoderBlock: 3-7                 [32, 197, 768]            [32, 197, 768]            7,087,872                 True\n",
              "│    │    └─EncoderBlock: 3-8                 [32, 197, 768]            [32, 197, 768]            7,087,872                 True\n",
              "│    │    └─EncoderBlock: 3-9                 [32, 197, 768]            [32, 197, 768]            7,087,872                 True\n",
              "│    │    └─EncoderBlock: 3-10                [32, 197, 768]            [32, 197, 768]            7,087,872                 True\n",
              "│    │    └─EncoderBlock: 3-11                [32, 197, 768]            [32, 197, 768]            7,087,872                 True\n",
              "│    │    └─EncoderBlock: 3-12                [32, 197, 768]            [32, 197, 768]            7,087,872                 True\n",
              "│    └─LayerNorm: 2-3                         [32, 197, 768]            [32, 197, 768]            1,536                     True\n",
              "├─Linear: 1-3                                 [32, 768]                 [32, 60]                  46,140                    True\n",
              "=================================================================================================================================================\n",
              "Total params: 85,844,796\n",
              "Trainable params: 85,102,140\n",
              "Non-trainable params: 742,656\n",
              "Total mult-adds (Units.GIGABYTES): 5.52\n",
              "=================================================================================================================================================\n",
              "Input size (MB): 19.27\n",
              "Forward/backward pass size (MB): 3330.75\n",
              "Params size (MB): 229.38\n",
              "Estimated Total Size (MB): 3579.40\n",
              "================================================================================================================================================="
            ]
          },
          "metadata": {},
          "execution_count": 5
        }
      ]
    },
    {
      "cell_type": "code",
      "source": [
        "from google.colab import drive\n",
        "drive.mount('/content/drive')"
      ],
      "metadata": {
        "colab": {
          "base_uri": "https://localhost:8080/"
        },
        "id": "nH7A2g117A-q",
        "outputId": "46d116d4-5bee-4c67-8b10-5597b14b1c62"
      },
      "execution_count": null,
      "outputs": [
        {
          "output_type": "stream",
          "name": "stdout",
          "text": [
            "Mounted at /content/drive\n"
          ]
        }
      ]
    },
    {
      "cell_type": "code",
      "source": [
        "Train_dataset_path = '/content/drive/MyDrive/Reverse/Train'\n",
        "Validation_dataset_path = '/content/drive/MyDrive/Reverse/Validation'\n",
        "Test_dataset_path = '/content/drive/MyDrive/Reverse/Test'\n",
        "\n",
        "models_path='/content/drive/My Drive/Thesis_ViT_Models/UnfrozenViT80percent.pth'"
      ],
      "metadata": {
        "id": "WA2bnbOB7E9o"
      },
      "execution_count": 1,
      "outputs": []
    },
    {
      "cell_type": "code",
      "source": [
        "pretrained_vit_transforms = pretrained_vit_weights.transforms()\n",
        "print(pretrained_vit_transforms)"
      ],
      "metadata": {
        "colab": {
          "base_uri": "https://localhost:8080/"
        },
        "id": "h_BVnR0j7Hmt",
        "outputId": "735458e6-67bb-4847-e231-1a98cc399ed5"
      },
      "execution_count": null,
      "outputs": [
        {
          "output_type": "stream",
          "name": "stdout",
          "text": [
            "ImageClassification(\n",
            "    crop_size=[224]\n",
            "    resize_size=[256]\n",
            "    mean=[0.485, 0.456, 0.406]\n",
            "    std=[0.229, 0.224, 0.225]\n",
            "    interpolation=InterpolationMode.BILINEAR\n",
            ")\n"
          ]
        }
      ]
    },
    {
      "cell_type": "code",
      "source": [
        "NUM_WORKERS = os.cpu_count()\n",
        "\n",
        "def create_dataloaders(\n",
        "    train_dir: str,\n",
        "    val_dir: str,\n",
        "    test_dir: str,\n",
        "    transform: transforms.Compose,\n",
        "    batch_size: int,\n",
        "    num_workers: int = NUM_WORKERS\n",
        "):\n",
        "    # Create datasets for each directory\n",
        "    train_dataset = datasets.ImageFolder(root=train_dir, transform=transform)\n",
        "    val_dataset = datasets.ImageFolder(root=val_dir, transform=transform)\n",
        "    test_dataset = datasets.ImageFolder(root=test_dir, transform=transform)\n",
        "\n",
        "    # Create dataloaders\n",
        "    train_dataloader = DataLoader(train_dataset, batch_size=batch_size, shuffle=True, num_workers=num_workers, pin_memory=True)\n",
        "    val_dataloader = DataLoader(val_dataset, batch_size=batch_size, shuffle=False, num_workers=num_workers, pin_memory=True)\n",
        "    test_dataloader = DataLoader(test_dataset, batch_size=batch_size, shuffle=False, num_workers=num_workers, pin_memory=True)\n",
        "\n",
        "    return train_dataloader, val_dataloader, test_dataloader"
      ],
      "metadata": {
        "id": "Ei1LvpCY7Nyz"
      },
      "execution_count": null,
      "outputs": []
    },
    {
      "cell_type": "code",
      "source": [
        "train_dataloader_pretrained, val_dataloader_pretrained, test_dataloader_pretrained = create_dataloaders(\n",
        "    train_dir=Train_dataset_path,\n",
        "    val_dir=Validation_dataset_path,\n",
        "    test_dir=Test_dataset_path,\n",
        "    transform=pretrained_vit_transforms,\n",
        "    batch_size=32\n",
        ")"
      ],
      "metadata": {
        "id": "eXOcdIGP7SWh"
      },
      "execution_count": null,
      "outputs": []
    },
    {
      "cell_type": "code",
      "source": [
        "def train_step(model: torch.nn.Module,\n",
        "               dataloader: torch.utils.data.DataLoader,\n",
        "               loss_fn: torch.nn.Module,\n",
        "               optimizer: torch.optim.Optimizer,\n",
        "               device: torch.device) -> Tuple[float, float]:\n",
        "    \"\"\"Trains a PyTorch model for a single epoch.\n",
        "\n",
        "    Turns a target PyTorch model to training mode and then\n",
        "    runs through all of the required training steps (forward\n",
        "    pass, loss calculation, optimizer step).\n",
        "\n",
        "    Args:\n",
        "    model: A PyTorch model to be trained.\n",
        "    dataloader: A DataLoader instance for the model to be trained on.\n",
        "    loss_fn: A PyTorch loss function to minimize.\n",
        "    optimizer: A PyTorch optimizer to help minimize the loss function.\n",
        "    device: A target device to compute on (e.g. \"cuda\" or \"cpu\").\n",
        "\n",
        "    Returns:\n",
        "    A tuple of training loss and training accuracy metrics.\n",
        "    In the form (train_loss, train_accuracy). For example:\n",
        "\n",
        "    (0.1112, 0.8743)\n",
        "    \"\"\"\n",
        "    # Put model in train mode\n",
        "    model.train()\n",
        "\n",
        "    # Setup train loss and train accuracy values\n",
        "    train_loss, train_acc = 0, 0\n",
        "\n",
        "    # Loop through data loader data batches\n",
        "    for batch, (X, y) in enumerate(dataloader):\n",
        "        # Send data to target device\n",
        "        X, y = X.to(device), y.to(device)\n",
        "\n",
        "        # 1. Forward pass\n",
        "        y_pred = model(X)\n",
        "\n",
        "        # 2. Calculate  and accumulate loss\n",
        "        loss = loss_fn(y_pred, y)\n",
        "        train_loss += loss.item()\n",
        "\n",
        "        # 3. Optimizer zero grad\n",
        "        optimizer.zero_grad()\n",
        "\n",
        "        # 4. Loss backward\n",
        "        loss.backward()\n",
        "\n",
        "        # 5. Optimizer step\n",
        "        optimizer.step()\n",
        "\n",
        "        # Calculate and accumulate accuracy metric across all batches\n",
        "        y_pred_class = torch.argmax(torch.softmax(y_pred, dim=1), dim=1)\n",
        "        train_acc += (y_pred_class == y).sum().item()/len(y_pred)\n",
        "\n",
        "    # Adjust metrics to get average loss and accuracy per batch\n",
        "    train_loss = train_loss / len(dataloader)\n",
        "    train_acc = train_acc / len(dataloader)\n",
        "    return train_loss, train_acc\n",
        "\n",
        "def test_step(model: torch.nn.Module,\n",
        "              dataloader: torch.utils.data.DataLoader,\n",
        "              loss_fn: torch.nn.Module,\n",
        "              device: torch.device) -> Tuple[float, float]:\n",
        "    \"\"\"Tests a PyTorch model for a single epoch.\n",
        "\n",
        "    Turns a target PyTorch model to \"eval\" mode and then performs\n",
        "    a forward pass on a testing dataset.\n",
        "\n",
        "    Args:\n",
        "    model: A PyTorch model to be tested.\n",
        "    dataloader: A DataLoader instance for the model to be tested on.\n",
        "    loss_fn: A PyTorch loss function to calculate loss on the test data.\n",
        "    device: A target device to compute on (e.g. \"cuda\" or \"cpu\").\n",
        "\n",
        "    Returns:\n",
        "    A tuple of testing loss and testing accuracy metrics.\n",
        "    In the form (test_loss, test_accuracy). For example:\n",
        "\n",
        "    (0.0223, 0.8985)\n",
        "    \"\"\"\n",
        "    # Put model in eval mode\n",
        "    model.eval()\n",
        "\n",
        "    # Setup test loss and test accuracy values\n",
        "    test_loss, test_acc = 0, 0\n",
        "\n",
        "    # Turn on inference context manager\n",
        "    with torch.inference_mode():\n",
        "        # Loop through DataLoader batches\n",
        "        for batch, (X, y) in enumerate(dataloader):\n",
        "            # Send data to target device\n",
        "            X, y = X.to(device), y.to(device)\n",
        "\n",
        "            # 1. Forward pass\n",
        "            test_pred_logits = model(X)\n",
        "\n",
        "            # 2. Calculate and accumulate loss\n",
        "            loss = loss_fn(test_pred_logits, y)\n",
        "            test_loss += loss.item()\n",
        "\n",
        "            # Calculate and accumulate accuracy\n",
        "            test_pred_labels = test_pred_logits.argmax(dim=1)\n",
        "            test_acc += ((test_pred_labels == y).sum().item()/len(test_pred_labels))\n",
        "\n",
        "    # Adjust metrics to get average loss and accuracy per batch\n",
        "    test_loss = test_loss / len(dataloader)\n",
        "    test_acc = test_acc / len(dataloader)\n",
        "    return test_loss, test_acc\n",
        "\n",
        "def train(model: torch.nn.Module,\n",
        "                              train_dataloader: torch.utils.data.DataLoader,\n",
        "                              test_dataloader: torch.utils.data.DataLoader,\n",
        "                              optimizer: torch.optim.Optimizer,\n",
        "                              loss_fn: torch.nn.Module,\n",
        "                              epochs: int,\n",
        "                              device: torch.device,\n",
        "                              patience: int) -> Dict[str, List]:\n",
        "    \"\"\"\n",
        "    Trains and tests a PyTorch model with early stopping.\n",
        "\n",
        "    Args:\n",
        "    model: A PyTorch model to be trained and tested.\n",
        "    train_dataloader: A DataLoader instance for the model to be trained on.\n",
        "    test_dataloader: A DataLoader instance for the model to be tested on.\n",
        "    optimizer: A PyTorch optimizer to help minimize the loss function.\n",
        "    loss_fn: A PyTorch loss function to calculate loss on both datasets.\n",
        "    epochs: An integer indicating how many epochs to train for.\n",
        "    device: A target device to compute on (e.g. \"cuda\" or \"cpu\").\n",
        "    patience: An integer indicating how many epochs to wait for improvement\n",
        "              in validation loss before stopping early.\n",
        "\n",
        "    Returns:\n",
        "    A dictionary of training and testing loss as well as training and\n",
        "    testing accuracy metrics.\n",
        "    \"\"\"\n",
        "    # Create empty results dictionary\n",
        "    results = {\"train_loss\": [],\n",
        "               \"train_acc\": [],\n",
        "               \"test_loss\": [],\n",
        "               \"test_acc\": []\n",
        "    }\n",
        "\n",
        "    # Make sure model is on target device\n",
        "    model.to(device)\n",
        "\n",
        "    # Early stopping variables\n",
        "    best_loss = float('inf')\n",
        "    patience_counter = 0\n",
        "\n",
        "    # Loop through training and testing steps for a number of epochs\n",
        "    for epoch in tqdm(range(epochs)):\n",
        "        train_loss, train_acc = train_step(model=model,\n",
        "                                           dataloader=train_dataloader,\n",
        "                                           loss_fn=loss_fn,\n",
        "                                           optimizer=optimizer,\n",
        "                                           device=device)\n",
        "        test_loss, test_acc = test_step(model=model,\n",
        "                                        dataloader=test_dataloader,\n",
        "                                        loss_fn=loss_fn,\n",
        "                                        device=device)\n",
        "\n",
        "        # Print out what's happening\n",
        "        print(\n",
        "            f\"Epoch: {epoch+1} | \"\n",
        "            f\"train_loss: {train_loss:.4f} | \"\n",
        "            f\"train_acc: {train_acc:.4f} | \"\n",
        "            f\"test_loss: {test_loss:.4f} | \"\n",
        "            f\"test_acc: {test_acc:.4f}\"\n",
        "        )\n",
        "\n",
        "        # Update results dictionary\n",
        "        results[\"train_loss\"].append(train_loss)\n",
        "        results[\"train_acc\"].append(train_acc)\n",
        "        results[\"test_loss\"].append(test_loss)\n",
        "        results[\"test_acc\"].append(test_acc)\n",
        "\n",
        "        # Check for improvement\n",
        "        if test_loss < best_loss:\n",
        "            best_loss = test_loss\n",
        "            patience_counter = 0  # Reset counter if improvement is found\n",
        "        else:\n",
        "            patience_counter += 1\n",
        "\n",
        "        # Stop training if patience is exceeded\n",
        "        if patience_counter >= patience:\n",
        "            print(f\"Early stopping triggered after {epoch+1} epochs!\")\n",
        "            break\n",
        "\n",
        "    # Return the filled results at the end of the epochs\n",
        "    return results"
      ],
      "metadata": {
        "id": "UwC0Lwse7Xo8"
      },
      "execution_count": null,
      "outputs": []
    },
    {
      "cell_type": "code",
      "source": [
        "#Loss function\n",
        "loss_fn = torch.nn.CrossEntropyLoss()"
      ],
      "metadata": {
        "id": "XQypgeG77aMO"
      },
      "execution_count": null,
      "outputs": []
    },
    {
      "cell_type": "code",
      "source": [
        "# Create optimizer and loss function\n",
        "optimizer = torch.optim.AdamW(params=pretrained_vit.parameters(),\n",
        "                             lr=1e-4)\n",
        "\n",
        "# Train the classifier head of the pretrained ViT feature extractor model\n",
        "pretrained_vit_results = train(model=pretrained_vit,\n",
        "                                      train_dataloader=train_dataloader_pretrained,\n",
        "                                      test_dataloader=val_dataloader_pretrained,\n",
        "                                      optimizer=optimizer,\n",
        "                                      loss_fn=loss_fn,\n",
        "                                      epochs=100,\n",
        "                                      device=device,\n",
        "                                      patience=3)"
      ],
      "metadata": {
        "colab": {
          "base_uri": "https://localhost:8080/",
          "height": 292,
          "referenced_widgets": [
            "be85c6a3672541208229cc06c3a807fd",
            "565ced64bceb411ea251c466c70ddcb3",
            "ae150c5b7f104c66a9fcbb4642538a88",
            "a212fd9c0f9f4acf9038706caf4406f4",
            "930a889f8d7949ba9e4a07c8f5e63c15",
            "bebbff389a6848559e35fb1b2e60daae",
            "dcb705d1660c4fb491b59fd937a4caa6",
            "79ea45486b6547408ac477ff86ab06dd",
            "1049d3a3778a43efba41f06337877e46",
            "240065b987384e2fb36cb9c972743709",
            "2950d6d63a9e4ebda03a81f83c5164bb"
          ]
        },
        "id": "qwVf6iQg7dwn",
        "outputId": "3328ef4a-4832-4a08-f9dc-54a21a8cae58"
      },
      "execution_count": null,
      "outputs": [
        {
          "data": {
            "application/vnd.jupyter.widget-view+json": {
              "model_id": "be85c6a3672541208229cc06c3a807fd",
              "version_major": 2,
              "version_minor": 0
            },
            "text/plain": [
              "  0%|          | 0/100 [00:00<?, ?it/s]"
            ]
          },
          "metadata": {},
          "output_type": "display_data"
        },
        {
          "output_type": "stream",
          "name": "stdout",
          "text": [
            "Epoch: 1 | train_loss: 1.0253 | train_acc: 0.8071 | test_loss: 0.1134 | test_acc: 0.9844\n",
            "Epoch: 2 | train_loss: 0.0389 | train_acc: 0.9946 | test_loss: 0.0740 | test_acc: 0.9918\n",
            "Epoch: 3 | train_loss: 0.0114 | train_acc: 0.9994 | test_loss: 0.0537 | test_acc: 0.9918\n",
            "Epoch: 4 | train_loss: 0.0060 | train_acc: 0.9996 | test_loss: 0.0569 | test_acc: 0.9918\n",
            "Epoch: 5 | train_loss: 0.0059 | train_acc: 0.9994 | test_loss: 0.0497 | test_acc: 0.9918\n",
            "Epoch: 6 | train_loss: 0.0040 | train_acc: 0.9994 | test_loss: 0.0512 | test_acc: 0.9926\n",
            "Epoch: 7 | train_loss: 0.0042 | train_acc: 0.9994 | test_loss: 0.0531 | test_acc: 0.9918\n",
            "Epoch: 8 | train_loss: 0.0036 | train_acc: 0.9994 | test_loss: 0.0491 | test_acc: 0.9918\n",
            "Epoch: 9 | train_loss: 0.0029 | train_acc: 0.9994 | test_loss: 0.0523 | test_acc: 0.9918\n",
            "Epoch: 10 | train_loss: 0.0029 | train_acc: 0.9994 | test_loss: 0.0486 | test_acc: 0.9918\n",
            "Epoch: 11 | train_loss: 0.0023 | train_acc: 0.9992 | test_loss: 0.0507 | test_acc: 0.9918\n",
            "Epoch: 12 | train_loss: 0.0019 | train_acc: 0.9996 | test_loss: 0.0487 | test_acc: 0.9918\n",
            "Epoch: 13 | train_loss: 0.0022 | train_acc: 0.9996 | test_loss: 0.0508 | test_acc: 0.9910\n",
            "Early stopping triggered after 13 epochs!\n"
          ]
        }
      ]
    },
    {
      "cell_type": "code",
      "source": [
        "#Save the model\n",
        "torch.save(obj=pretrained_vit.state_dict(), f=models_path)"
      ],
      "metadata": {
        "id": "kSoVTu5V7gse"
      },
      "execution_count": null,
      "outputs": []
    },
    {
      "cell_type": "code",
      "source": [
        "# Plot loss curves of a model\n",
        "def plot_loss_curves(results):\n",
        "    \"\"\"Plots training curves of a results dictionary.\n",
        "\n",
        "    Args:\n",
        "        results (dict): dictionary containing list of values, e.g.\n",
        "            {\"train_loss\": [...],\n",
        "             \"train_acc\": [...],\n",
        "             \"test_loss\": [...],\n",
        "             \"test_acc\": [...]}\n",
        "    \"\"\"\n",
        "    loss = results[\"train_loss\"]\n",
        "    test_loss = results[\"test_loss\"]\n",
        "\n",
        "    accuracy = results[\"train_acc\"]\n",
        "    test_accuracy = results[\"test_acc\"]\n",
        "\n",
        "    epochs = range(len(results[\"train_loss\"]))\n",
        "\n",
        "    plt.figure(figsize=(15, 7))\n",
        "\n",
        "    # Plot loss\n",
        "    plt.subplot(1, 2, 1)\n",
        "    plt.plot(epochs, loss, label=\"train_loss\")\n",
        "    plt.plot(epochs, test_loss, label=\"test_loss\")\n",
        "    plt.title(\"Loss\")\n",
        "    plt.xlabel(\"Epochs\")\n",
        "    plt.legend()\n",
        "\n",
        "    # Plot accuracy\n",
        "    plt.subplot(1, 2, 2)\n",
        "    plt.plot(epochs, accuracy, label=\"train_accuracy\")\n",
        "    plt.plot(epochs, test_accuracy, label=\"test_accuracy\")\n",
        "    plt.title(\"Accuracy\")\n",
        "    plt.xlabel(\"Epochs\")\n",
        "    plt.legend()"
      ],
      "metadata": {
        "id": "eGTL8g3l7kZj"
      },
      "execution_count": null,
      "outputs": []
    },
    {
      "cell_type": "code",
      "source": [
        "plot_loss_curves(pretrained_vit_results)"
      ],
      "metadata": {
        "colab": {
          "base_uri": "https://localhost:8080/",
          "height": 641
        },
        "id": "2nt2yQb_7nJ2",
        "outputId": "77000837-d766-4796-ecd8-997c71c74af8"
      },
      "execution_count": null,
      "outputs": [
        {
          "output_type": "display_data",
          "data": {
            "text/plain": [
              "<Figure size 1500x700 with 2 Axes>"
            ],
            "image/png": "[encoded data removed]"
          },
          "metadata": {}
        }
      ]
    },
    {
      "cell_type": "code",
      "source": [
        "# Load the model\n",
        "pretrained_vit.load_state_dict(torch.load(models_path))\n",
        "\n",
        "# Perform evaluation on the test set\n",
        "final_test_loss, final_test_acc = test_step(\n",
        "    model=pretrained_vit,\n",
        "    dataloader=test_dataloader_pretrained,\n",
        "    loss_fn=loss_fn,\n",
        "    device=device\n",
        ")\n",
        "\n",
        "print(f\"Final Test Loss: {final_test_loss:.4f}\")\n",
        "print(f\"Final Test Accuracy: {final_test_acc:.4f}\")"
      ],
      "metadata": {
        "colab": {
          "base_uri": "https://localhost:8080/"
        },
        "id": "ezdcUJwP7qLC",
        "outputId": "31e32fc9-2275-448b-ceaa-01c42bfa6f79"
      },
      "execution_count": null,
      "outputs": [
        {
          "output_type": "stream",
          "name": "stderr",
          "text": [
            "<ipython-input-17-d716ec1e9f9e>:2: FutureWarning: You are using `torch.load` with `weights_only=False` (the current default value), which uses the default pickle module implicitly. It is possible to construct malicious pickle data which will execute arbitrary code during unpickling (See https://github.com/pytorch/pytorch/blob/main/SECURITY.md#untrusted-models for more details). In a future release, the default value for `weights_only` will be flipped to `True`. This limits the functions that could be executed during unpickling. Arbitrary objects will no longer be allowed to be loaded via this mode unless they are explicitly allowlisted by the user via `torch.serialization.add_safe_globals`. We recommend you start setting `weights_only=True` for any use case where you don't have full control of the loaded file. Please open an issue on GitHub for any issues related to this experimental feature.\n",
            "  pretrained_vit.load_state_dict(torch.load(models_path))\n"
          ]
        },
        {
          "output_type": "stream",
          "name": "stdout",
          "text": [
            "Final Test Loss: 0.0508\n",
            "Final Test Accuracy: 0.9910\n"
          ]
        }
      ]
    },
    {
      "cell_type": "code",
      "source": [
        "#Measure inference time on L4 GPU\n",
        "import time\n",
        "\n",
        "# Load the trained model\n",
        "pretrained_vit.load_state_dict(torch.load(models_path))\n",
        "pretrained_vit.eval().to(device)\n",
        "\n",
        "# Measure inference time\n",
        "total_time = 0\n",
        "num_samples = 0\n",
        "\n",
        "with torch.inference_mode():\n",
        "    for batch, (X, y) in enumerate(test_dataloader_pretrained):\n",
        "        X = X.to(device)\n",
        "        num_samples += X.shape[0]\n",
        "\n",
        "        start_time = time.time()  # Start timing\n",
        "        _ = pretrained_vit(X)  # Forward pass\n",
        "        end_time = time.time()  # End timing\n",
        "\n",
        "        total_time += (end_time - start_time)\n",
        "\n",
        "# Compute average inference time per image\n",
        "avg_inference_time = total_time / num_samples\n",
        "\n",
        "print(f\"Average Inference Time per Image: {avg_inference_time:.6f} seconds\")"
      ],
      "metadata": {
        "id": "PVda2PKDQQIr",
        "colab": {
          "base_uri": "https://localhost:8080/"
        },
        "outputId": "5b65b92a-766b-4fdf-9026-ac4b7cb23dd3"
      },
      "execution_count": null,
      "outputs": [
        {
          "output_type": "stream",
          "name": "stderr",
          "text": [
            "<ipython-input-15-e56ef4aab2e4>:6: FutureWarning: You are using `torch.load` with `weights_only=False` (the current default value), which uses the default pickle module implicitly. It is possible to construct malicious pickle data which will execute arbitrary code during unpickling (See https://github.com/pytorch/pytorch/blob/main/SECURITY.md#untrusted-models for more details). In a future release, the default value for `weights_only` will be flipped to `True`. This limits the functions that could be executed during unpickling. Arbitrary objects will no longer be allowed to be loaded via this mode unless they are explicitly allowlisted by the user via `torch.serialization.add_safe_globals`. We recommend you start setting `weights_only=True` for any use case where you don't have full control of the loaded file. Please open an issue on GitHub for any issues related to this experimental feature.\n",
            "  pretrained_vit.load_state_dict(torch.load(models_path))\n"
          ]
        },
        {
          "output_type": "stream",
          "name": "stdout",
          "text": [
            "Average Inference Time per Image: 0.000208 seconds\n"
          ]
        }
      ]
    },
    {
      "cell_type": "code",
      "source": [],
      "metadata": {
        "id": "FG7--MyXtq4N"
      },
      "execution_count": null,
      "outputs": []
    }
  ]
}