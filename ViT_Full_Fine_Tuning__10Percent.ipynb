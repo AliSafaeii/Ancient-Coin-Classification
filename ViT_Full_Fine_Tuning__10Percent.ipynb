{
  "nbformat": 4,
  "nbformat_minor": 0,
  "metadata": {
    "colab": {
      "provenance": [],
      "gpuType": "T4"
    },
    "kernelspec": {
      "name": "python3",
      "display_name": "Python 3"
    },
    "language_info": {
      "name": "python"
    },
    "accelerator": "GPU",
    "widgets": {
      "application/vnd.jupyter.widget-state+json": {
        "5114ccfdc1e04242a098cf88a41c8630": {
          "model_module": "@jupyter-widgets/controls",
          "model_name": "HBoxModel",
          "model_module_version": "1.5.0",
          "state": {
            "_dom_classes": [],
            "_model_module": "@jupyter-widgets/controls",
            "_model_module_version": "1.5.0",
            "_model_name": "HBoxModel",
            "_view_count": null,
            "_view_module": "@jupyter-widgets/controls",
            "_view_module_version": "1.5.0",
            "_view_name": "HBoxView",
            "box_style": "",
            "children": [
              "IPY_MODEL_6673ae82430c4277afc541f419efd58a",
              "IPY_MODEL_5331534c781f4a7b8e3660cf118be98c",
              "IPY_MODEL_bcd9a992bac64e16b6f45451403ee846"
            ],
            "layout": "IPY_MODEL_3197f7813733468099b9f38b434db406"
          }
        },
        "6673ae82430c4277afc541f419efd58a": {
          "model_module": "@jupyter-widgets/controls",
          "model_name": "HTMLModel",
          "model_module_version": "1.5.0",
          "state": {
            "_dom_classes": [],
            "_model_module": "@jupyter-widgets/controls",
            "_model_module_version": "1.5.0",
            "_model_name": "HTMLModel",
            "_view_count": null,
            "_view_module": "@jupyter-widgets/controls",
            "_view_module_version": "1.5.0",
            "_view_name": "HTMLView",
            "description": "",
            "description_tooltip": null,
            "layout": "IPY_MODEL_08217ce7b7c645c18269bd9908720628",
            "placeholder": "​",
            "style": "IPY_MODEL_9232114bee5a42a9a2309ee68bba60e4",
            "value": "100%"
          }
        },
        "5331534c781f4a7b8e3660cf118be98c": {
          "model_module": "@jupyter-widgets/controls",
          "model_name": "FloatProgressModel",
          "model_module_version": "1.5.0",
          "state": {
            "_dom_classes": [],
            "_model_module": "@jupyter-widgets/controls",
            "_model_module_version": "1.5.0",
            "_model_name": "FloatProgressModel",
            "_view_count": null,
            "_view_module": "@jupyter-widgets/controls",
            "_view_module_version": "1.5.0",
            "_view_name": "ProgressView",
            "bar_style": "success",
            "description": "",
            "description_tooltip": null,
            "layout": "IPY_MODEL_8009a4c131424ae6aa9c07c8782eb780",
            "max": 100,
            "min": 0,
            "orientation": "horizontal",
            "style": "IPY_MODEL_f5ac6106a48140398600a3a9449af8c3",
            "value": 100
          }
        },
        "bcd9a992bac64e16b6f45451403ee846": {
          "model_module": "@jupyter-widgets/controls",
          "model_name": "HTMLModel",
          "model_module_version": "1.5.0",
          "state": {
            "_dom_classes": [],
            "_model_module": "@jupyter-widgets/controls",
            "_model_module_version": "1.5.0",
            "_model_name": "HTMLModel",
            "_view_count": null,
            "_view_module": "@jupyter-widgets/controls",
            "_view_module_version": "1.5.0",
            "_view_name": "HTMLView",
            "description": "",
            "description_tooltip": null,
            "layout": "IPY_MODEL_5377795b3a3a46c49e2dd84059e5f5ae",
            "placeholder": "​",
            "style": "IPY_MODEL_4433844bddf9402cb2567b682f155000",
            "value": " 100/100 [31:47&lt;00:00, 18.03s/it]"
          }
        },
        "3197f7813733468099b9f38b434db406": {
          "model_module": "@jupyter-widgets/base",
          "model_name": "LayoutModel",
          "model_module_version": "1.2.0",
          "state": {
            "_model_module": "@jupyter-widgets/base",
            "_model_module_version": "1.2.0",
            "_model_name": "LayoutModel",
            "_view_count": null,
            "_view_module": "@jupyter-widgets/base",
            "_view_module_version": "1.2.0",
            "_view_name": "LayoutView",
            "align_content": null,
            "align_items": null,
            "align_self": null,
            "border": null,
            "bottom": null,
            "display": null,
            "flex": null,
            "flex_flow": null,
            "grid_area": null,
            "grid_auto_columns": null,
            "grid_auto_flow": null,
            "grid_auto_rows": null,
            "grid_column": null,
            "grid_gap": null,
            "grid_row": null,
            "grid_template_areas": null,
            "grid_template_columns": null,
            "grid_template_rows": null,
            "height": null,
            "justify_content": null,
            "justify_items": null,
            "left": null,
            "margin": null,
            "max_height": null,
            "max_width": null,
            "min_height": null,
            "min_width": null,
            "object_fit": null,
            "object_position": null,
            "order": null,
            "overflow": null,
            "overflow_x": null,
            "overflow_y": null,
            "padding": null,
            "right": null,
            "top": null,
            "visibility": null,
            "width": null
          }
        },
        "08217ce7b7c645c18269bd9908720628": {
          "model_module": "@jupyter-widgets/base",
          "model_name": "LayoutModel",
          "model_module_version": "1.2.0",
          "state": {
            "_model_module": "@jupyter-widgets/base",
            "_model_module_version": "1.2.0",
            "_model_name": "LayoutModel",
            "_view_count": null,
            "_view_module": "@jupyter-widgets/base",
            "_view_module_version": "1.2.0",
            "_view_name": "LayoutView",
            "align_content": null,
            "align_items": null,
            "align_self": null,
            "border": null,
            "bottom": null,
            "display": null,
            "flex": null,
            "flex_flow": null,
            "grid_area": null,
            "grid_auto_columns": null,
            "grid_auto_flow": null,
            "grid_auto_rows": null,
            "grid_column": null,
            "grid_gap": null,
            "grid_row": null,
            "grid_template_areas": null,
            "grid_template_columns": null,
            "grid_template_rows": null,
            "height": null,
            "justify_content": null,
            "justify_items": null,
            "left": null,
            "margin": null,
            "max_height": null,
            "max_width": null,
            "min_height": null,
            "min_width": null,
            "object_fit": null,
            "object_position": null,
            "order": null,
            "overflow": null,
            "overflow_x": null,
            "overflow_y": null,
            "padding": null,
            "right": null,
            "top": null,
            "visibility": null,
            "width": null
          }
        },
        "9232114bee5a42a9a2309ee68bba60e4": {
          "model_module": "@jupyter-widgets/controls",
          "model_name": "DescriptionStyleModel",
          "model_module_version": "1.5.0",
          "state": {
            "_model_module": "@jupyter-widgets/controls",
            "_model_module_version": "1.5.0",
            "_model_name": "DescriptionStyleModel",
            "_view_count": null,
            "_view_module": "@jupyter-widgets/base",
            "_view_module_version": "1.2.0",
            "_view_name": "StyleView",
            "description_width": ""
          }
        },
        "8009a4c131424ae6aa9c07c8782eb780": {
          "model_module": "@jupyter-widgets/base",
          "model_name": "LayoutModel",
          "model_module_version": "1.2.0",
          "state": {
            "_model_module": "@jupyter-widgets/base",
            "_model_module_version": "1.2.0",
            "_model_name": "LayoutModel",
            "_view_count": null,
            "_view_module": "@jupyter-widgets/base",
            "_view_module_version": "1.2.0",
            "_view_name": "LayoutView",
            "align_content": null,
            "align_items": null,
            "align_self": null,
            "border": null,
            "bottom": null,
            "display": null,
            "flex": null,
            "flex_flow": null,
            "grid_area": null,
            "grid_auto_columns": null,
            "grid_auto_flow": null,
            "grid_auto_rows": null,
            "grid_column": null,
            "grid_gap": null,
            "grid_row": null,
            "grid_template_areas": null,
            "grid_template_columns": null,
            "grid_template_rows": null,
            "height": null,
            "justify_content": null,
            "justify_items": null,
            "left": null,
            "margin": null,
            "max_height": null,
            "max_width": null,
            "min_height": null,
            "min_width": null,
            "object_fit": null,
            "object_position": null,
            "order": null,
            "overflow": null,
            "overflow_x": null,
            "overflow_y": null,
            "padding": null,
            "right": null,
            "top": null,
            "visibility": null,
            "width": null
          }
        },
        "f5ac6106a48140398600a3a9449af8c3": {
          "model_module": "@jupyter-widgets/controls",
          "model_name": "ProgressStyleModel",
          "model_module_version": "1.5.0",
          "state": {
            "_model_module": "@jupyter-widgets/controls",
            "_model_module_version": "1.5.0",
            "_model_name": "ProgressStyleModel",
            "_view_count": null,
            "_view_module": "@jupyter-widgets/base",
            "_view_module_version": "1.2.0",
            "_view_name": "StyleView",
            "bar_color": null,
            "description_width": ""
          }
        },
        "5377795b3a3a46c49e2dd84059e5f5ae": {
          "model_module": "@jupyter-widgets/base",
          "model_name": "LayoutModel",
          "model_module_version": "1.2.0",
          "state": {
            "_model_module": "@jupyter-widgets/base",
            "_model_module_version": "1.2.0",
            "_model_name": "LayoutModel",
            "_view_count": null,
            "_view_module": "@jupyter-widgets/base",
            "_view_module_version": "1.2.0",
            "_view_name": "LayoutView",
            "align_content": null,
            "align_items": null,
            "align_self": null,
            "border": null,
            "bottom": null,
            "display": null,
            "flex": null,
            "flex_flow": null,
            "grid_area": null,
            "grid_auto_columns": null,
            "grid_auto_flow": null,
            "grid_auto_rows": null,
            "grid_column": null,
            "grid_gap": null,
            "grid_row": null,
            "grid_template_areas": null,
            "grid_template_columns": null,
            "grid_template_rows": null,
            "height": null,
            "justify_content": null,
            "justify_items": null,
            "left": null,
            "margin": null,
            "max_height": null,
            "max_width": null,
            "min_height": null,
            "min_width": null,
            "object_fit": null,
            "object_position": null,
            "order": null,
            "overflow": null,
            "overflow_x": null,
            "overflow_y": null,
            "padding": null,
            "right": null,
            "top": null,
            "visibility": null,
            "width": null
          }
        },
        "4433844bddf9402cb2567b682f155000": {
          "model_module": "@jupyter-widgets/controls",
          "model_name": "DescriptionStyleModel",
          "model_module_version": "1.5.0",
          "state": {
            "_model_module": "@jupyter-widgets/controls",
            "_model_module_version": "1.5.0",
            "_model_name": "DescriptionStyleModel",
            "_view_count": null,
            "_view_module": "@jupyter-widgets/base",
            "_view_module_version": "1.2.0",
            "_view_name": "StyleView",
            "description_width": ""
          }
        }
      }
    }
  },
  "cells": [
    {
      "cell_type": "code",
      "execution_count": null,
      "metadata": {
        "id": "8pIm_ZVzvrVs"
      },
      "outputs": [],
      "source": [
        "import matplotlib.pyplot as plt\n",
        "import torch\n",
        "import torchvision\n",
        "from torch import nn\n",
        "import os\n",
        "from torchvision import datasets, transforms\n",
        "from torch.utils.data import random_split, DataLoader\n",
        "from tqdm.auto import tqdm\n",
        "from typing import Dict, List, Tuple\n",
        "import numpy as np\n",
        "from collections import Counter\n",
        "import random"
      ]
    },
    {
      "cell_type": "code",
      "source": [
        "!pip install torchinfo"
      ],
      "metadata": {
        "colab": {
          "base_uri": "https://localhost:8080/"
        },
        "id": "Hr_oEY62xDxi",
        "outputId": "91270a12-fa57-43c4-906c-601815120cdb"
      },
      "execution_count": null,
      "outputs": [
        {
          "output_type": "stream",
          "name": "stdout",
          "text": [
            "Collecting torchinfo\n",
            "  Downloading torchinfo-1.8.0-py3-none-any.whl.metadata (21 kB)\n",
            "Downloading torchinfo-1.8.0-py3-none-any.whl (23 kB)\n",
            "Installing collected packages: torchinfo\n",
            "Successfully installed torchinfo-1.8.0\n"
          ]
        }
      ]
    },
    {
      "cell_type": "code",
      "source": [
        "# Set fixed seed\n",
        "random.seed(45)\n",
        "np.random.seed(45)\n",
        "torch.manual_seed(45)"
      ],
      "metadata": {
        "colab": {
          "base_uri": "https://localhost:8080/"
        },
        "id": "vNOHbumHa5Uk",
        "outputId": "70c39e63-7c11-40aa-db2e-a6b190261f6d"
      },
      "execution_count": null,
      "outputs": [
        {
          "output_type": "execute_result",
          "data": {
            "text/plain": [
              "<torch._C.Generator at 0x7cf0605e27d0>"
            ]
          },
          "metadata": {},
          "execution_count": 3
        }
      ]
    },
    {
      "cell_type": "code",
      "source": [
        "device = torch.device('cuda' if torch.cuda.is_available() else 'cpu')\n",
        "device"
      ],
      "metadata": {
        "colab": {
          "base_uri": "https://localhost:8080/"
        },
        "id": "xiTnDzokxFi4",
        "outputId": "41a8a421-35bc-4afe-f2db-fdcba32e81d6"
      },
      "execution_count": null,
      "outputs": [
        {
          "output_type": "execute_result",
          "data": {
            "text/plain": [
              "device(type='cuda')"
            ]
          },
          "metadata": {},
          "execution_count": 3
        }
      ]
    },
    {
      "cell_type": "code",
      "source": [
        "# 1. Get pretrained weights for ViT-Base\n",
        "pretrained_vit_weights = torchvision.models.ViT_B_16_Weights.DEFAULT\n",
        "\n",
        "# 2. Setup a ViT model instance with pretrained weights\n",
        "pretrained_vit = torchvision.models.vit_b_16(weights=pretrained_vit_weights).to(device)\n",
        "\n",
        "# 3. Freeze the base parameters\n",
        "for parameter in pretrained_vit.parameters():\n",
        "    parameter.requires_grad = False\n",
        "\n",
        "pretrained_vit.heads = nn.Linear(in_features=768, out_features=60).to(device)\n",
        "\n",
        "# 5. Unfreeze the last two transformer encoder blocks\n",
        "# torchvision ViT has an attribute `encoder.layers` containing all transformer blocks\n",
        "num_blocks = len(pretrained_vit.encoder.layers)\n",
        "\n",
        "# Unfreeze the last one block\n",
        "for block in pretrained_vit.encoder.layers[-12:]:\n",
        "    for parameter in block.parameters():\n",
        "        parameter.requires_grad = True\n",
        "\n",
        "# Access the LayerNorm layer\n",
        "layernorm = pretrained_vit.encoder.ln\n",
        "\n",
        "# Unfreeze its parameters\n",
        "for parameter in layernorm.parameters():\n",
        "    parameter.requires_grad = True"
      ],
      "metadata": {
        "colab": {
          "base_uri": "https://localhost:8080/"
        },
        "id": "vwc9b1H9xHLO",
        "outputId": "f9f30d1f-4446-452e-ff4d-ac67204d7920"
      },
      "execution_count": null,
      "outputs": [
        {
          "output_type": "stream",
          "name": "stderr",
          "text": [
            "Downloading: \"https://download.pytorch.org/models/vit_b_16-c867db91.pth\" to /root/.cache/torch/hub/checkpoints/vit_b_16-c867db91.pth\n",
            "100%|██████████| 330M/330M [00:02<00:00, 159MB/s]\n"
          ]
        }
      ]
    },
    {
      "cell_type": "code",
      "source": [
        "from torchinfo import summary\n",
        "\n",
        "summary(model=pretrained_vit,\n",
        "        input_size = (32, 3, 224, 224),\n",
        "        col_names=[\"input_size\", \"output_size\", \"num_params\", \"trainable\"])"
      ],
      "metadata": {
        "colab": {
          "base_uri": "https://localhost:8080/"
        },
        "id": "qNVpEZVTxN9x",
        "outputId": "8c0bef5c-2c73-49e2-c427-cb86649c1c41"
      },
      "execution_count": null,
      "outputs": [
        {
          "output_type": "execute_result",
          "data": {
            "text/plain": [
              "=================================================================================================================================================\n",
              "Layer (type:depth-idx)                        Input Shape               Output Shape              Param #                   Trainable\n",
              "=================================================================================================================================================\n",
              "VisionTransformer                             [32, 3, 224, 224]         [32, 60]                  768                       Partial\n",
              "├─Conv2d: 1-1                                 [32, 3, 224, 224]         [32, 768, 14, 14]         (590,592)                 False\n",
              "├─Encoder: 1-2                                [32, 197, 768]            [32, 197, 768]            151,296                   Partial\n",
              "│    └─Dropout: 2-1                           [32, 197, 768]            [32, 197, 768]            --                        --\n",
              "│    └─Sequential: 2-2                        [32, 197, 768]            [32, 197, 768]            --                        True\n",
              "│    │    └─EncoderBlock: 3-1                 [32, 197, 768]            [32, 197, 768]            7,087,872                 True\n",
              "│    │    └─EncoderBlock: 3-2                 [32, 197, 768]            [32, 197, 768]            7,087,872                 True\n",
              "│    │    └─EncoderBlock: 3-3                 [32, 197, 768]            [32, 197, 768]            7,087,872                 True\n",
              "│    │    └─EncoderBlock: 3-4                 [32, 197, 768]            [32, 197, 768]            7,087,872                 True\n",
              "│    │    └─EncoderBlock: 3-5                 [32, 197, 768]            [32, 197, 768]            7,087,872                 True\n",
              "│    │    └─EncoderBlock: 3-6                 [32, 197, 768]            [32, 197, 768]            7,087,872                 True\n",
              "│    │    └─EncoderBlock: 3-7                 [32, 197, 768]            [32, 197, 768]            7,087,872                 True\n",
              "│    │    └─EncoderBlock: 3-8                 [32, 197, 768]            [32, 197, 768]            7,087,872                 True\n",
              "│    │    └─EncoderBlock: 3-9                 [32, 197, 768]            [32, 197, 768]            7,087,872                 True\n",
              "│    │    └─EncoderBlock: 3-10                [32, 197, 768]            [32, 197, 768]            7,087,872                 True\n",
              "│    │    └─EncoderBlock: 3-11                [32, 197, 768]            [32, 197, 768]            7,087,872                 True\n",
              "│    │    └─EncoderBlock: 3-12                [32, 197, 768]            [32, 197, 768]            7,087,872                 True\n",
              "│    └─LayerNorm: 2-3                         [32, 197, 768]            [32, 197, 768]            1,536                     True\n",
              "├─Linear: 1-3                                 [32, 768]                 [32, 60]                  46,140                    True\n",
              "=================================================================================================================================================\n",
              "Total params: 85,844,796\n",
              "Trainable params: 85,102,140\n",
              "Non-trainable params: 742,656\n",
              "Total mult-adds (Units.GIGABYTES): 5.52\n",
              "=================================================================================================================================================\n",
              "Input size (MB): 19.27\n",
              "Forward/backward pass size (MB): 3330.75\n",
              "Params size (MB): 229.38\n",
              "Estimated Total Size (MB): 3579.40\n",
              "================================================================================================================================================="
            ]
          },
          "metadata": {},
          "execution_count": 5
        }
      ]
    },
    {
      "cell_type": "code",
      "source": [
        "from google.colab import drive\n",
        "drive.mount('/content/drive')"
      ],
      "metadata": {
        "colab": {
          "base_uri": "https://localhost:8080/"
        },
        "id": "eFtVdWlIxTrP",
        "outputId": "9f5f5884-7636-416f-873c-257689599c60"
      },
      "execution_count": null,
      "outputs": [
        {
          "output_type": "stream",
          "name": "stdout",
          "text": [
            "Mounted at /content/drive\n"
          ]
        }
      ]
    },
    {
      "cell_type": "code",
      "source": [
        "dataset_path = '/content/drive/MyDrive/Reverse'\n",
        "models_path='/content/drive/My Drive/Thesis_ViT_Models/UnfrozenViT10percent.pth'"
      ],
      "metadata": {
        "id": "VhBF6iHfxgJu"
      },
      "execution_count": null,
      "outputs": []
    },
    {
      "cell_type": "code",
      "source": [
        "pretrained_vit_transforms = pretrained_vit_weights.transforms()\n",
        "print(pretrained_vit_transforms)"
      ],
      "metadata": {
        "colab": {
          "base_uri": "https://localhost:8080/"
        },
        "id": "2ltb89AFxorh",
        "outputId": "65be0712-4070-40a6-f279-4c0096ad94b9"
      },
      "execution_count": null,
      "outputs": [
        {
          "output_type": "stream",
          "name": "stdout",
          "text": [
            "ImageClassification(\n",
            "    crop_size=[224]\n",
            "    resize_size=[256]\n",
            "    mean=[0.485, 0.456, 0.406]\n",
            "    std=[0.229, 0.224, 0.225]\n",
            "    interpolation=InterpolationMode.BILINEAR\n",
            ")\n"
          ]
        }
      ]
    },
    {
      "cell_type": "code",
      "source": [
        "NUM_WORKERS = os.cpu_count()\n",
        "\n",
        "def create_dataloaders(\n",
        "    data_dir: str,\n",
        "    transform: transforms.Compose,\n",
        "    batch_size: int,\n",
        "    num_workers: int=NUM_WORKERS,\n",
        "    random_seed: int=45,\n",
        "    fraction: float=0.125\n",
        "):\n",
        "\n",
        "  torch.manual_seed(random_seed)\n",
        "  dataset = datasets.ImageFolder(root=dataset_path, transform=transform)\n",
        "\n",
        "  initial_train_size = int(0.8 * len(dataset))\n",
        "  val_size = len(dataset) - initial_train_size\n",
        "  initial_train_dataset, val_dataset = random_split(dataset, [initial_train_size, val_size])\n",
        "\n",
        "  train_size = int(fraction * initial_train_size)\n",
        "  left_data_size = initial_train_size - train_size\n",
        "  train_dataset, left_data = random_split(initial_train_dataset, [train_size, left_data_size])\n",
        "\n",
        "  # Turn images into data loaders\n",
        "  train_dataloader = DataLoader(\n",
        "      train_dataset,\n",
        "      batch_size=batch_size,\n",
        "      shuffle=False,\n",
        "      num_workers=num_workers,\n",
        "      pin_memory=True,\n",
        "  )\n",
        "  test_dataloader = DataLoader(\n",
        "      val_dataset,\n",
        "      batch_size=batch_size,\n",
        "      shuffle=False,\n",
        "      num_workers=num_workers,\n",
        "      pin_memory=True,\n",
        "  )\n",
        "\n",
        "  return train_dataloader, test_dataloader"
      ],
      "metadata": {
        "id": "0qqgjMUHxqtM"
      },
      "execution_count": null,
      "outputs": []
    },
    {
      "cell_type": "code",
      "source": [
        "train_dataloader_pretrained, test_dataloader_pretrained = create_dataloaders(data_dir=dataset_path, transform=pretrained_vit_transforms, batch_size=32, random_seed=45, fraction=0.125)"
      ],
      "metadata": {
        "id": "5WKkILAZxszG"
      },
      "execution_count": null,
      "outputs": []
    },
    {
      "cell_type": "code",
      "source": [
        "def train_step(model: torch.nn.Module,\n",
        "               dataloader: torch.utils.data.DataLoader,\n",
        "               loss_fn: torch.nn.Module,\n",
        "               optimizer: torch.optim.Optimizer,\n",
        "               device: torch.device) -> Tuple[float, float]:\n",
        "    \"\"\"Trains a PyTorch model for a single epoch.\n",
        "\n",
        "    Turns a target PyTorch model to training mode and then\n",
        "    runs through all of the required training steps (forward\n",
        "    pass, loss calculation, optimizer step).\n",
        "\n",
        "    Args:\n",
        "    model: A PyTorch model to be trained.\n",
        "    dataloader: A DataLoader instance for the model to be trained on.\n",
        "    loss_fn: A PyTorch loss function to minimize.\n",
        "    optimizer: A PyTorch optimizer to help minimize the loss function.\n",
        "    device: A target device to compute on (e.g. \"cuda\" or \"cpu\").\n",
        "\n",
        "    Returns:\n",
        "    A tuple of training loss and training accuracy metrics.\n",
        "    In the form (train_loss, train_accuracy). For example:\n",
        "\n",
        "    (0.1112, 0.8743)\n",
        "    \"\"\"\n",
        "    # Put model in train mode\n",
        "    model.train()\n",
        "\n",
        "    # Setup train loss and train accuracy values\n",
        "    train_loss, train_acc = 0, 0\n",
        "\n",
        "    # Loop through data loader data batches\n",
        "    for batch, (X, y) in enumerate(dataloader):\n",
        "        # Send data to target device\n",
        "        X, y = X.to(device), y.to(device)\n",
        "\n",
        "        # 1. Forward pass\n",
        "        y_pred = model(X)\n",
        "\n",
        "        # 2. Calculate  and accumulate loss\n",
        "        loss = loss_fn(y_pred, y)\n",
        "        train_loss += loss.item()\n",
        "\n",
        "        # 3. Optimizer zero grad\n",
        "        optimizer.zero_grad()\n",
        "\n",
        "        # 4. Loss backward\n",
        "        loss.backward()\n",
        "\n",
        "        # 5. Optimizer step\n",
        "        optimizer.step()\n",
        "\n",
        "        # Calculate and accumulate accuracy metric across all batches\n",
        "        y_pred_class = torch.argmax(torch.softmax(y_pred, dim=1), dim=1)\n",
        "        train_acc += (y_pred_class == y).sum().item()/len(y_pred)\n",
        "\n",
        "    # Adjust metrics to get average loss and accuracy per batch\n",
        "    train_loss = train_loss / len(dataloader)\n",
        "    train_acc = train_acc / len(dataloader)\n",
        "    return train_loss, train_acc\n",
        "\n",
        "def test_step(model: torch.nn.Module,\n",
        "              dataloader: torch.utils.data.DataLoader,\n",
        "              loss_fn: torch.nn.Module,\n",
        "              device: torch.device) -> Tuple[float, float]:\n",
        "    \"\"\"Tests a PyTorch model for a single epoch.\n",
        "\n",
        "    Turns a target PyTorch model to \"eval\" mode and then performs\n",
        "    a forward pass on a testing dataset.\n",
        "\n",
        "    Args:\n",
        "    model: A PyTorch model to be tested.\n",
        "    dataloader: A DataLoader instance for the model to be tested on.\n",
        "    loss_fn: A PyTorch loss function to calculate loss on the test data.\n",
        "    device: A target device to compute on (e.g. \"cuda\" or \"cpu\").\n",
        "\n",
        "    Returns:\n",
        "    A tuple of testing loss and testing accuracy metrics.\n",
        "    In the form (test_loss, test_accuracy). For example:\n",
        "\n",
        "    (0.0223, 0.8985)\n",
        "    \"\"\"\n",
        "    # Put model in eval mode\n",
        "    model.eval()\n",
        "\n",
        "    # Setup test loss and test accuracy values\n",
        "    test_loss, test_acc = 0, 0\n",
        "\n",
        "    # Turn on inference context manager\n",
        "    with torch.inference_mode():\n",
        "        # Loop through DataLoader batches\n",
        "        for batch, (X, y) in enumerate(dataloader):\n",
        "            # Send data to target device\n",
        "            X, y = X.to(device), y.to(device)\n",
        "\n",
        "            # 1. Forward pass\n",
        "            test_pred_logits = model(X)\n",
        "\n",
        "            # 2. Calculate and accumulate loss\n",
        "            loss = loss_fn(test_pred_logits, y)\n",
        "            test_loss += loss.item()\n",
        "\n",
        "            # Calculate and accumulate accuracy\n",
        "            test_pred_labels = test_pred_logits.argmax(dim=1)\n",
        "            test_acc += ((test_pred_labels == y).sum().item()/len(test_pred_labels))\n",
        "\n",
        "    # Adjust metrics to get average loss and accuracy per batch\n",
        "    test_loss = test_loss / len(dataloader)\n",
        "    test_acc = test_acc / len(dataloader)\n",
        "    return test_loss, test_acc\n",
        "\n",
        "def train(model: torch.nn.Module,\n",
        "                              train_dataloader: torch.utils.data.DataLoader,\n",
        "                              test_dataloader: torch.utils.data.DataLoader,\n",
        "                              optimizer: torch.optim.Optimizer,\n",
        "                              loss_fn: torch.nn.Module,\n",
        "                              epochs: int,\n",
        "                              device: torch.device,\n",
        "                              patience: int) -> Dict[str, List]:\n",
        "    \"\"\"\n",
        "    Trains and tests a PyTorch model with early stopping.\n",
        "\n",
        "    Args:\n",
        "    model: A PyTorch model to be trained and tested.\n",
        "    train_dataloader: A DataLoader instance for the model to be trained on.\n",
        "    test_dataloader: A DataLoader instance for the model to be tested on.\n",
        "    optimizer: A PyTorch optimizer to help minimize the loss function.\n",
        "    loss_fn: A PyTorch loss function to calculate loss on both datasets.\n",
        "    epochs: An integer indicating how many epochs to train for.\n",
        "    device: A target device to compute on (e.g. \"cuda\" or \"cpu\").\n",
        "    patience: An integer indicating how many epochs to wait for improvement\n",
        "              in validation loss before stopping early.\n",
        "\n",
        "    Returns:\n",
        "    A dictionary of training and testing loss as well as training and\n",
        "    testing accuracy metrics.\n",
        "    \"\"\"\n",
        "    # Create empty results dictionary\n",
        "    results = {\"train_loss\": [],\n",
        "               \"train_acc\": [],\n",
        "               \"test_loss\": [],\n",
        "               \"test_acc\": []\n",
        "    }\n",
        "\n",
        "    # Make sure model is on target device\n",
        "    model.to(device)\n",
        "\n",
        "    # Early stopping variables\n",
        "    best_loss = float('inf')\n",
        "    patience_counter = 0\n",
        "\n",
        "    # Loop through training and testing steps for a number of epochs\n",
        "    for epoch in tqdm(range(epochs)):\n",
        "        train_loss, train_acc = train_step(model=model,\n",
        "                                           dataloader=train_dataloader,\n",
        "                                           loss_fn=loss_fn,\n",
        "                                           optimizer=optimizer,\n",
        "                                           device=device)\n",
        "        test_loss, test_acc = test_step(model=model,\n",
        "                                        dataloader=test_dataloader,\n",
        "                                        loss_fn=loss_fn,\n",
        "                                        device=device)\n",
        "\n",
        "        # Print out what's happening\n",
        "        print(\n",
        "            f\"Epoch: {epoch+1} | \"\n",
        "            f\"train_loss: {train_loss:.4f} | \"\n",
        "            f\"train_acc: {train_acc:.4f} | \"\n",
        "            f\"test_loss: {test_loss:.4f} | \"\n",
        "            f\"test_acc: {test_acc:.4f}\"\n",
        "        )\n",
        "\n",
        "        # Update results dictionary\n",
        "        results[\"train_loss\"].append(train_loss)\n",
        "        results[\"train_acc\"].append(train_acc)\n",
        "        results[\"test_loss\"].append(test_loss)\n",
        "        results[\"test_acc\"].append(test_acc)\n",
        "\n",
        "        # Check for improvement\n",
        "        if test_loss < best_loss:\n",
        "            best_loss = test_loss\n",
        "            patience_counter = 0  # Reset counter if improvement is found\n",
        "        else:\n",
        "            patience_counter += 1\n",
        "\n",
        "        # Stop training if patience is exceeded\n",
        "        if patience_counter >= patience:\n",
        "            print(f\"Early stopping triggered after {epoch+1} epochs!\")\n",
        "            break\n",
        "\n",
        "    # Return the filled results at the end of the epochs\n",
        "    return results"
      ],
      "metadata": {
        "id": "ZqTFurHkxvQM"
      },
      "execution_count": null,
      "outputs": []
    },
    {
      "cell_type": "code",
      "source": [
        "#Loss function\n",
        "loss_fn = torch.nn.CrossEntropyLoss()"
      ],
      "metadata": {
        "id": "Nebiw4QTxxvD"
      },
      "execution_count": null,
      "outputs": []
    },
    {
      "cell_type": "code",
      "source": [
        "# Create optimizer and loss function\n",
        "optimizer = torch.optim.AdamW(params=pretrained_vit.parameters(),\n",
        "                             lr=1e-4)\n",
        "\n",
        "# Train the classifier head of the pretrained ViT feature extractor model\n",
        "pretrained_vit_results = train(model=pretrained_vit,\n",
        "                                      train_dataloader=train_dataloader_pretrained,\n",
        "                                      test_dataloader=test_dataloader_pretrained,\n",
        "                                      optimizer=optimizer,\n",
        "                                      loss_fn=loss_fn,\n",
        "                                      epochs=100,\n",
        "                                      device=device,\n",
        "                                      patience=3)"
      ],
      "metadata": {
        "colab": {
          "base_uri": "https://localhost:8080/",
          "height": 1000,
          "referenced_widgets": [
            "5114ccfdc1e04242a098cf88a41c8630",
            "6673ae82430c4277afc541f419efd58a",
            "5331534c781f4a7b8e3660cf118be98c",
            "bcd9a992bac64e16b6f45451403ee846",
            "3197f7813733468099b9f38b434db406",
            "08217ce7b7c645c18269bd9908720628",
            "9232114bee5a42a9a2309ee68bba60e4",
            "8009a4c131424ae6aa9c07c8782eb780",
            "f5ac6106a48140398600a3a9449af8c3",
            "5377795b3a3a46c49e2dd84059e5f5ae",
            "4433844bddf9402cb2567b682f155000"
          ]
        },
        "id": "-5P_7MOtx0Gj",
        "outputId": "8504625f-d0d3-49fc-a56a-e2041f26d18d"
      },
      "execution_count": null,
      "outputs": [
        {
          "output_type": "display_data",
          "data": {
            "text/plain": [
              "  0%|          | 0/100 [00:00<?, ?it/s]"
            ],
            "application/vnd.jupyter.widget-view+json": {
              "version_major": 2,
              "version_minor": 0,
              "model_id": "5114ccfdc1e04242a098cf88a41c8630"
            }
          },
          "metadata": {}
        },
        {
          "output_type": "stream",
          "name": "stdout",
          "text": [
            "Epoch: 1 | train_loss: 3.9941 | train_acc: 0.1020 | test_loss: 3.4182 | test_acc: 0.2015\n",
            "Epoch: 2 | train_loss: 1.9474 | train_acc: 0.7061 | test_loss: 1.4086 | test_acc: 0.8243\n",
            "Epoch: 3 | train_loss: 0.4268 | train_acc: 0.9868 | test_loss: 0.6223 | test_acc: 0.9336\n",
            "Epoch: 4 | train_loss: 0.0929 | train_acc: 1.0000 | test_loss: 0.3777 | test_acc: 0.9565\n",
            "Epoch: 5 | train_loss: 0.0380 | train_acc: 1.0000 | test_loss: 0.3140 | test_acc: 0.9565\n",
            "Epoch: 6 | train_loss: 0.0247 | train_acc: 1.0000 | test_loss: 0.2873 | test_acc: 0.9590\n",
            "Epoch: 7 | train_loss: 0.0190 | train_acc: 1.0000 | test_loss: 0.2722 | test_acc: 0.9598\n",
            "Epoch: 8 | train_loss: 0.0156 | train_acc: 1.0000 | test_loss: 0.2602 | test_acc: 0.9598\n",
            "Epoch: 9 | train_loss: 0.0132 | train_acc: 1.0000 | test_loss: 0.2514 | test_acc: 0.9598\n",
            "Epoch: 10 | train_loss: 0.0114 | train_acc: 1.0000 | test_loss: 0.2420 | test_acc: 0.9598\n",
            "Epoch: 11 | train_loss: 0.0100 | train_acc: 1.0000 | test_loss: 0.2354 | test_acc: 0.9631\n",
            "Epoch: 12 | train_loss: 0.0088 | train_acc: 1.0000 | test_loss: 0.2306 | test_acc: 0.9614\n",
            "Epoch: 13 | train_loss: 0.0079 | train_acc: 1.0000 | test_loss: 0.2253 | test_acc: 0.9614\n",
            "Epoch: 14 | train_loss: 0.0071 | train_acc: 1.0000 | test_loss: 0.2204 | test_acc: 0.9606\n",
            "Epoch: 15 | train_loss: 0.0064 | train_acc: 1.0000 | test_loss: 0.2170 | test_acc: 0.9639\n",
            "Epoch: 16 | train_loss: 0.0059 | train_acc: 1.0000 | test_loss: 0.2132 | test_acc: 0.9631\n",
            "Epoch: 17 | train_loss: 0.0054 | train_acc: 1.0000 | test_loss: 0.2096 | test_acc: 0.9631\n",
            "Epoch: 18 | train_loss: 0.0050 | train_acc: 1.0000 | test_loss: 0.2054 | test_acc: 0.9631\n",
            "Epoch: 19 | train_loss: 0.0046 | train_acc: 1.0000 | test_loss: 0.2041 | test_acc: 0.9631\n",
            "Epoch: 20 | train_loss: 0.0043 | train_acc: 1.0000 | test_loss: 0.2013 | test_acc: 0.9631\n",
            "Epoch: 21 | train_loss: 0.0040 | train_acc: 1.0000 | test_loss: 0.1990 | test_acc: 0.9631\n",
            "Epoch: 22 | train_loss: 0.0037 | train_acc: 1.0000 | test_loss: 0.1964 | test_acc: 0.9631\n",
            "Epoch: 23 | train_loss: 0.0035 | train_acc: 1.0000 | test_loss: 0.1953 | test_acc: 0.9631\n",
            "Epoch: 24 | train_loss: 0.0033 | train_acc: 1.0000 | test_loss: 0.1937 | test_acc: 0.9639\n",
            "Epoch: 25 | train_loss: 0.0031 | train_acc: 1.0000 | test_loss: 0.1924 | test_acc: 0.9647\n",
            "Epoch: 26 | train_loss: 0.0030 | train_acc: 1.0000 | test_loss: 0.1912 | test_acc: 0.9639\n",
            "Epoch: 27 | train_loss: 0.0028 | train_acc: 1.0000 | test_loss: 0.1898 | test_acc: 0.9639\n",
            "Epoch: 28 | train_loss: 0.0027 | train_acc: 1.0000 | test_loss: 0.1885 | test_acc: 0.9639\n",
            "Epoch: 29 | train_loss: 0.0025 | train_acc: 1.0000 | test_loss: 0.1868 | test_acc: 0.9639\n",
            "Epoch: 30 | train_loss: 0.0024 | train_acc: 1.0000 | test_loss: 0.1853 | test_acc: 0.9639\n",
            "Epoch: 31 | train_loss: 0.0023 | train_acc: 1.0000 | test_loss: 0.1843 | test_acc: 0.9631\n",
            "Epoch: 32 | train_loss: 0.0022 | train_acc: 1.0000 | test_loss: 0.1832 | test_acc: 0.9639\n",
            "Epoch: 33 | train_loss: 0.0021 | train_acc: 1.0000 | test_loss: 0.1828 | test_acc: 0.9639\n",
            "Epoch: 34 | train_loss: 0.0020 | train_acc: 1.0000 | test_loss: 0.1816 | test_acc: 0.9639\n",
            "Epoch: 35 | train_loss: 0.0020 | train_acc: 1.0000 | test_loss: 0.1809 | test_acc: 0.9639\n",
            "Epoch: 36 | train_loss: 0.0019 | train_acc: 1.0000 | test_loss: 0.1793 | test_acc: 0.9639\n",
            "Epoch: 37 | train_loss: 0.0018 | train_acc: 1.0000 | test_loss: 0.1784 | test_acc: 0.9639\n",
            "Epoch: 38 | train_loss: 0.0017 | train_acc: 1.0000 | test_loss: 0.1785 | test_acc: 0.9639\n",
            "Epoch: 39 | train_loss: 0.0017 | train_acc: 1.0000 | test_loss: 0.1774 | test_acc: 0.9639\n",
            "Epoch: 40 | train_loss: 0.0016 | train_acc: 1.0000 | test_loss: 0.1767 | test_acc: 0.9639\n",
            "Epoch: 41 | train_loss: 0.0016 | train_acc: 1.0000 | test_loss: 0.1765 | test_acc: 0.9639\n",
            "Epoch: 42 | train_loss: 0.0015 | train_acc: 1.0000 | test_loss: 0.1760 | test_acc: 0.9639\n",
            "Epoch: 43 | train_loss: 0.0015 | train_acc: 1.0000 | test_loss: 0.1751 | test_acc: 0.9639\n",
            "Epoch: 44 | train_loss: 0.0014 | train_acc: 1.0000 | test_loss: 0.1745 | test_acc: 0.9639\n",
            "Epoch: 45 | train_loss: 0.0014 | train_acc: 1.0000 | test_loss: 0.1740 | test_acc: 0.9639\n",
            "Epoch: 46 | train_loss: 0.0013 | train_acc: 1.0000 | test_loss: 0.1735 | test_acc: 0.9639\n",
            "Epoch: 47 | train_loss: 0.0013 | train_acc: 1.0000 | test_loss: 0.1725 | test_acc: 0.9639\n",
            "Epoch: 48 | train_loss: 0.0013 | train_acc: 1.0000 | test_loss: 0.1724 | test_acc: 0.9639\n",
            "Epoch: 49 | train_loss: 0.0012 | train_acc: 1.0000 | test_loss: 0.1722 | test_acc: 0.9639\n",
            "Epoch: 50 | train_loss: 0.0012 | train_acc: 1.0000 | test_loss: 0.1713 | test_acc: 0.9639\n",
            "Epoch: 51 | train_loss: 0.0012 | train_acc: 1.0000 | test_loss: 0.1713 | test_acc: 0.9639\n",
            "Epoch: 52 | train_loss: 0.0011 | train_acc: 1.0000 | test_loss: 0.1710 | test_acc: 0.9639\n",
            "Epoch: 53 | train_loss: 0.0011 | train_acc: 1.0000 | test_loss: 0.1703 | test_acc: 0.9639\n",
            "Epoch: 54 | train_loss: 0.0011 | train_acc: 1.0000 | test_loss: 0.1702 | test_acc: 0.9647\n",
            "Epoch: 55 | train_loss: 0.0010 | train_acc: 1.0000 | test_loss: 0.1697 | test_acc: 0.9647\n",
            "Epoch: 56 | train_loss: 0.0010 | train_acc: 1.0000 | test_loss: 0.1701 | test_acc: 0.9647\n",
            "Epoch: 57 | train_loss: 0.0010 | train_acc: 1.0000 | test_loss: 0.1686 | test_acc: 0.9647\n",
            "Epoch: 58 | train_loss: 0.0010 | train_acc: 1.0000 | test_loss: 0.1689 | test_acc: 0.9647\n",
            "Epoch: 59 | train_loss: 0.0010 | train_acc: 1.0000 | test_loss: 0.1684 | test_acc: 0.9647\n",
            "Epoch: 60 | train_loss: 0.0009 | train_acc: 1.0000 | test_loss: 0.1680 | test_acc: 0.9647\n",
            "Epoch: 61 | train_loss: 0.0009 | train_acc: 1.0000 | test_loss: 0.1678 | test_acc: 0.9647\n",
            "Epoch: 62 | train_loss: 0.0009 | train_acc: 1.0000 | test_loss: 0.1678 | test_acc: 0.9647\n",
            "Epoch: 63 | train_loss: 0.0009 | train_acc: 1.0000 | test_loss: 0.1673 | test_acc: 0.9647\n",
            "Epoch: 64 | train_loss: 0.0009 | train_acc: 1.0000 | test_loss: 0.1673 | test_acc: 0.9647\n",
            "Epoch: 65 | train_loss: 0.0008 | train_acc: 1.0000 | test_loss: 0.1663 | test_acc: 0.9656\n",
            "Epoch: 66 | train_loss: 0.0008 | train_acc: 1.0000 | test_loss: 0.1670 | test_acc: 0.9647\n",
            "Epoch: 67 | train_loss: 0.0008 | train_acc: 1.0000 | test_loss: 0.1661 | test_acc: 0.9656\n",
            "Epoch: 68 | train_loss: 0.0008 | train_acc: 1.0000 | test_loss: 0.1662 | test_acc: 0.9664\n",
            "Epoch: 69 | train_loss: 0.0008 | train_acc: 1.0000 | test_loss: 0.1656 | test_acc: 0.9656\n",
            "Epoch: 70 | train_loss: 0.0008 | train_acc: 1.0000 | test_loss: 0.1659 | test_acc: 0.9656\n",
            "Epoch: 71 | train_loss: 0.0007 | train_acc: 1.0000 | test_loss: 0.1659 | test_acc: 0.9656\n",
            "Epoch: 72 | train_loss: 0.0007 | train_acc: 1.0000 | test_loss: 0.1656 | test_acc: 0.9664\n",
            "Epoch: 73 | train_loss: 0.0007 | train_acc: 1.0000 | test_loss: 0.1650 | test_acc: 0.9664\n",
            "Epoch: 74 | train_loss: 0.0007 | train_acc: 1.0000 | test_loss: 0.1649 | test_acc: 0.9664\n",
            "Epoch: 75 | train_loss: 0.0007 | train_acc: 1.0000 | test_loss: 0.1650 | test_acc: 0.9664\n",
            "Epoch: 76 | train_loss: 0.0007 | train_acc: 1.0000 | test_loss: 0.1647 | test_acc: 0.9664\n",
            "Epoch: 77 | train_loss: 0.0007 | train_acc: 1.0000 | test_loss: 0.1646 | test_acc: 0.9664\n",
            "Epoch: 78 | train_loss: 0.0006 | train_acc: 1.0000 | test_loss: 0.1644 | test_acc: 0.9672\n",
            "Epoch: 79 | train_loss: 0.0006 | train_acc: 1.0000 | test_loss: 0.1647 | test_acc: 0.9656\n",
            "Epoch: 80 | train_loss: 0.0006 | train_acc: 1.0000 | test_loss: 0.1642 | test_acc: 0.9664\n",
            "Epoch: 81 | train_loss: 0.0006 | train_acc: 1.0000 | test_loss: 0.1639 | test_acc: 0.9672\n",
            "Epoch: 82 | train_loss: 0.0006 | train_acc: 1.0000 | test_loss: 0.1639 | test_acc: 0.9664\n",
            "Epoch: 83 | train_loss: 0.0006 | train_acc: 1.0000 | test_loss: 0.1641 | test_acc: 0.9664\n",
            "Epoch: 84 | train_loss: 0.0006 | train_acc: 1.0000 | test_loss: 0.1637 | test_acc: 0.9672\n",
            "Epoch: 85 | train_loss: 0.0006 | train_acc: 1.0000 | test_loss: 0.1632 | test_acc: 0.9656\n",
            "Epoch: 86 | train_loss: 0.0006 | train_acc: 1.0000 | test_loss: 0.1636 | test_acc: 0.9672\n",
            "Epoch: 87 | train_loss: 0.0006 | train_acc: 1.0000 | test_loss: 0.1632 | test_acc: 0.9672\n",
            "Epoch: 88 | train_loss: 0.0005 | train_acc: 1.0000 | test_loss: 0.1633 | test_acc: 0.9664\n",
            "Epoch: 89 | train_loss: 0.0005 | train_acc: 1.0000 | test_loss: 0.1631 | test_acc: 0.9672\n",
            "Epoch: 90 | train_loss: 0.0005 | train_acc: 1.0000 | test_loss: 0.1629 | test_acc: 0.9672\n",
            "Epoch: 91 | train_loss: 0.0005 | train_acc: 1.0000 | test_loss: 0.1627 | test_acc: 0.9656\n",
            "Epoch: 92 | train_loss: 0.0005 | train_acc: 1.0000 | test_loss: 0.1630 | test_acc: 0.9656\n",
            "Epoch: 93 | train_loss: 0.0005 | train_acc: 1.0000 | test_loss: 0.1632 | test_acc: 0.9656\n",
            "Epoch: 94 | train_loss: 0.0005 | train_acc: 1.0000 | test_loss: 0.1626 | test_acc: 0.9656\n",
            "Epoch: 95 | train_loss: 0.0005 | train_acc: 1.0000 | test_loss: 0.1626 | test_acc: 0.9664\n",
            "Epoch: 96 | train_loss: 0.0005 | train_acc: 1.0000 | test_loss: 0.1627 | test_acc: 0.9656\n",
            "Epoch: 97 | train_loss: 0.0005 | train_acc: 1.0000 | test_loss: 0.1625 | test_acc: 0.9664\n",
            "Epoch: 98 | train_loss: 0.0005 | train_acc: 1.0000 | test_loss: 0.1624 | test_acc: 0.9672\n",
            "Epoch: 99 | train_loss: 0.0005 | train_acc: 1.0000 | test_loss: 0.1623 | test_acc: 0.9664\n",
            "Epoch: 100 | train_loss: 0.0005 | train_acc: 1.0000 | test_loss: 0.1625 | test_acc: 0.9656\n"
          ]
        }
      ]
    },
    {
      "cell_type": "code",
      "source": [
        "#Save the model\n",
        "torch.save(obj=pretrained_vit.state_dict(), f=models_path)"
      ],
      "metadata": {
        "id": "G9DVcOKtx3jF"
      },
      "execution_count": null,
      "outputs": []
    },
    {
      "cell_type": "code",
      "source": [
        "# Plot loss curves of a model\n",
        "def plot_loss_curves(results):\n",
        "    \"\"\"Plots training curves of a results dictionary.\n",
        "\n",
        "    Args:\n",
        "        results (dict): dictionary containing list of values, e.g.\n",
        "            {\"train_loss\": [...],\n",
        "             \"train_acc\": [...],\n",
        "             \"test_loss\": [...],\n",
        "             \"test_acc\": [...]}\n",
        "    \"\"\"\n",
        "    loss = results[\"train_loss\"]\n",
        "    test_loss = results[\"test_loss\"]\n",
        "\n",
        "    accuracy = results[\"train_acc\"]\n",
        "    test_accuracy = results[\"test_acc\"]\n",
        "\n",
        "    epochs = range(len(results[\"train_loss\"]))\n",
        "\n",
        "    plt.figure(figsize=(15, 7))\n",
        "\n",
        "    # Plot loss\n",
        "    plt.subplot(1, 2, 1)\n",
        "    plt.plot(epochs, loss, label=\"train_loss\")\n",
        "    plt.plot(epochs, test_loss, label=\"test_loss\")\n",
        "    plt.title(\"Loss\")\n",
        "    plt.xlabel(\"Epochs\")\n",
        "    plt.legend()\n",
        "\n",
        "    # Plot accuracy\n",
        "    plt.subplot(1, 2, 2)\n",
        "    plt.plot(epochs, accuracy, label=\"train_accuracy\")\n",
        "    plt.plot(epochs, test_accuracy, label=\"test_accuracy\")\n",
        "    plt.title(\"Accuracy\")\n",
        "    plt.xlabel(\"Epochs\")\n",
        "    plt.legend()"
      ],
      "metadata": {
        "id": "TtCrBNOZx-VG"
      },
      "execution_count": null,
      "outputs": []
    },
    {
      "cell_type": "code",
      "source": [
        "plot_loss_curves(pretrained_vit_results)"
      ],
      "metadata": {
        "colab": {
          "base_uri": "https://localhost:8080/",
          "height": 641
        },
        "id": "pOAfa3nZyAop",
        "outputId": "89ee59a7-19be-4f35-a74e-f62a9ce57dd2"
      },
      "execution_count": null,
      "outputs": [
        {
          "output_type": "display_data",
          "data": {
            "text/plain": [
              "<Figure size 1500x700 with 2 Axes>"
            ],
            "image/png": "[encoded data removed]"
          },
          "metadata": {}
        }
      ]
    },
    {
      "cell_type": "code",
      "source": [
        "# Load the model\n",
        "pretrained_vit.load_state_dict(torch.load(models_path))\n",
        "\n",
        "# Perform evaluation on the test set\n",
        "final_test_loss, final_test_acc = test_step(\n",
        "    model=pretrained_vit,\n",
        "    dataloader=test_dataloader_pretrained,\n",
        "    loss_fn=loss_fn,\n",
        "    device=device\n",
        ")\n",
        "\n",
        "print(f\"Final Test Loss: {final_test_loss:.4f}\")\n",
        "print(f\"Final Test Accuracy: {final_test_acc:.4f}\")"
      ],
      "metadata": {
        "colab": {
          "base_uri": "https://localhost:8080/"
        },
        "id": "mDHLd4JUyDC4",
        "outputId": "8f8ba448-487c-4f84-e770-df036d1827dc"
      },
      "execution_count": null,
      "outputs": [
        {
          "output_type": "stream",
          "name": "stderr",
          "text": [
            "<ipython-input-17-d716ec1e9f9e>:2: FutureWarning: You are using `torch.load` with `weights_only=False` (the current default value), which uses the default pickle module implicitly. It is possible to construct malicious pickle data which will execute arbitrary code during unpickling (See https://github.com/pytorch/pytorch/blob/main/SECURITY.md#untrusted-models for more details). In a future release, the default value for `weights_only` will be flipped to `True`. This limits the functions that could be executed during unpickling. Arbitrary objects will no longer be allowed to be loaded via this mode unless they are explicitly allowlisted by the user via `torch.serialization.add_safe_globals`. We recommend you start setting `weights_only=True` for any use case where you don't have full control of the loaded file. Please open an issue on GitHub for any issues related to this experimental feature.\n",
            "  pretrained_vit.load_state_dict(torch.load(models_path))\n"
          ]
        },
        {
          "output_type": "stream",
          "name": "stdout",
          "text": [
            "Final Test Loss: 0.1625\n",
            "Final Test Accuracy: 0.9656\n"
          ]
        }
      ]
    },
    {
      "cell_type": "code",
      "source": [],
      "metadata": {
        "id": "zZw-vzDUYq20"
      },
      "execution_count": null,
      "outputs": []
    }
  ]
}