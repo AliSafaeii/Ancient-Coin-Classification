{
  "nbformat": 4,
  "nbformat_minor": 0,
  "metadata": {
    "colab": {
      "provenance": [],
      "gpuType": "T4"
    },
    "kernelspec": {
      "name": "python3",
      "display_name": "Python 3"
    },
    "language_info": {
      "name": "python"
    },
    "accelerator": "GPU"
  },
  "cells": [
    {
      "cell_type": "code",
      "execution_count": null,
      "metadata": {
        "id": "VOIzT8TBhAVv"
      },
      "outputs": [],
      "source": [
        "import matplotlib.pyplot as plt\n",
        "import torch\n",
        "import torchvision\n",
        "from torch import nn\n",
        "import os\n",
        "from torchvision import datasets, transforms\n",
        "from torch.utils.data import random_split, DataLoader\n",
        "from tqdm.auto import tqdm\n",
        "from typing import Dict, List, Tuple\n",
        "import numpy as np\n",
        "from collections import Counter\n",
        "import random"
      ]
    },
    {
      "cell_type": "code",
      "source": [
        "!pip install torchinfo"
      ],
      "metadata": {
        "colab": {
          "base_uri": "https://localhost:8080/"
        },
        "id": "sw7l3GN_hMg2",
        "outputId": "7e21f2c5-b101-4fe5-f2bc-0592e0b877d7"
      },
      "execution_count": null,
      "outputs": [
        {
          "output_type": "stream",
          "name": "stdout",
          "text": [
            "Collecting torchinfo\n",
            "  Downloading torchinfo-1.8.0-py3-none-any.whl.metadata (21 kB)\n",
            "Downloading torchinfo-1.8.0-py3-none-any.whl (23 kB)\n",
            "Installing collected packages: torchinfo\n",
            "Successfully installed torchinfo-1.8.0\n"
          ]
        }
      ]
    },
    {
      "cell_type": "code",
      "source": [
        "device = torch.device('cuda' if torch.cuda.is_available() else 'cpu')\n",
        "device"
      ],
      "metadata": {
        "colab": {
          "base_uri": "https://localhost:8080/"
        },
        "id": "uWlv1tZDhPBr",
        "outputId": "c4b9646c-5dff-41c2-df88-152c4ba4755c"
      },
      "execution_count": null,
      "outputs": [
        {
          "output_type": "execute_result",
          "data": {
            "text/plain": [
              "device(type='cuda')"
            ]
          },
          "metadata": {},
          "execution_count": 3
        }
      ]
    },
    {
      "cell_type": "code",
      "source": [
        "# Get pretrained weights for ViT-Base\n",
        "pretrained_vit_weights = torchvision.models.ViT_B_16_Weights.DEFAULT\n",
        "\n",
        "# Setup a ViT model instance with pretrained weights\n",
        "pretrained_vit = torchvision.models.vit_b_16(weights=pretrained_vit_weights).to(device)\n",
        "\n",
        "# Freeze the base parameters\n",
        "for parameter in pretrained_vit.parameters():\n",
        "    parameter.requires_grad = False\n",
        "\n",
        "pretrained_vit.heads = nn.Linear(in_features=768, out_features=60).to(device)\n",
        "\n",
        "# Unfreeze the last two transformer encoder blocks\n",
        "num_blocks = len(pretrained_vit.encoder.layers)\n",
        "\n",
        "# Unfreeze the last one block\n",
        "for block in pretrained_vit.encoder.layers[-12:]:\n",
        "    for parameter in block.parameters():\n",
        "        parameter.requires_grad = True\n",
        "\n",
        "# Access the LayerNorm layer\n",
        "layernorm = pretrained_vit.encoder.ln\n",
        "\n",
        "# Unfreeze its parameters\n",
        "for parameter in layernorm.parameters():\n",
        "    parameter.requires_grad = True"
      ],
      "metadata": {
        "colab": {
          "base_uri": "https://localhost:8080/"
        },
        "id": "3DXXqfRjhR-g",
        "outputId": "c3514a56-ec4a-45a2-ca5d-87b1a508a547"
      },
      "execution_count": null,
      "outputs": [
        {
          "output_type": "stream",
          "name": "stderr",
          "text": [
            "Downloading: \"https://download.pytorch.org/models/vit_b_16-c867db91.pth\" to /root/.cache/torch/hub/checkpoints/vit_b_16-c867db91.pth\n",
            "100%|██████████| 330M/330M [00:01<00:00, 213MB/s]\n"
          ]
        }
      ]
    },
    {
      "cell_type": "code",
      "source": [
        "from torchinfo import summary\n",
        "\n",
        "summary(model=pretrained_vit,\n",
        "        input_size = (32, 3, 224, 224),\n",
        "        col_names=[\"input_size\", \"output_size\", \"num_params\", \"trainable\"])"
      ],
      "metadata": {
        "colab": {
          "base_uri": "https://localhost:8080/"
        },
        "id": "a8CgkD95heF3",
        "outputId": "2c6a6936-3591-4a4c-89d4-e6dad1b70305"
      },
      "execution_count": null,
      "outputs": [
        {
          "output_type": "execute_result",
          "data": {
            "text/plain": [
              "=================================================================================================================================================\n",
              "Layer (type:depth-idx)                        Input Shape               Output Shape              Param #                   Trainable\n",
              "=================================================================================================================================================\n",
              "VisionTransformer                             [32, 3, 224, 224]         [32, 60]                  768                       Partial\n",
              "├─Conv2d: 1-1                                 [32, 3, 224, 224]         [32, 768, 14, 14]         (590,592)                 False\n",
              "├─Encoder: 1-2                                [32, 197, 768]            [32, 197, 768]            151,296                   Partial\n",
              "│    └─Dropout: 2-1                           [32, 197, 768]            [32, 197, 768]            --                        --\n",
              "│    └─Sequential: 2-2                        [32, 197, 768]            [32, 197, 768]            --                        True\n",
              "│    │    └─EncoderBlock: 3-1                 [32, 197, 768]            [32, 197, 768]            7,087,872                 True\n",
              "│    │    └─EncoderBlock: 3-2                 [32, 197, 768]            [32, 197, 768]            7,087,872                 True\n",
              "│    │    └─EncoderBlock: 3-3                 [32, 197, 768]            [32, 197, 768]            7,087,872                 True\n",
              "│    │    └─EncoderBlock: 3-4                 [32, 197, 768]            [32, 197, 768]            7,087,872                 True\n",
              "│    │    └─EncoderBlock: 3-5                 [32, 197, 768]            [32, 197, 768]            7,087,872                 True\n",
              "│    │    └─EncoderBlock: 3-6                 [32, 197, 768]            [32, 197, 768]            7,087,872                 True\n",
              "│    │    └─EncoderBlock: 3-7                 [32, 197, 768]            [32, 197, 768]            7,087,872                 True\n",
              "│    │    └─EncoderBlock: 3-8                 [32, 197, 768]            [32, 197, 768]            7,087,872                 True\n",
              "│    │    └─EncoderBlock: 3-9                 [32, 197, 768]            [32, 197, 768]            7,087,872                 True\n",
              "│    │    └─EncoderBlock: 3-10                [32, 197, 768]            [32, 197, 768]            7,087,872                 True\n",
              "│    │    └─EncoderBlock: 3-11                [32, 197, 768]            [32, 197, 768]            7,087,872                 True\n",
              "│    │    └─EncoderBlock: 3-12                [32, 197, 768]            [32, 197, 768]            7,087,872                 True\n",
              "│    └─LayerNorm: 2-3                         [32, 197, 768]            [32, 197, 768]            1,536                     True\n",
              "├─Linear: 1-3                                 [32, 768]                 [32, 60]                  46,140                    True\n",
              "=================================================================================================================================================\n",
              "Total params: 85,844,796\n",
              "Trainable params: 85,102,140\n",
              "Non-trainable params: 742,656\n",
              "Total mult-adds (G): 5.52\n",
              "=================================================================================================================================================\n",
              "Input size (MB): 19.27\n",
              "Forward/backward pass size (MB): 3330.75\n",
              "Params size (MB): 229.38\n",
              "Estimated Total Size (MB): 3579.40\n",
              "================================================================================================================================================="
            ]
          },
          "metadata": {},
          "execution_count": 5
        }
      ]
    },
    {
      "cell_type": "code",
      "source": [
        "from google.colab import drive\n",
        "drive.mount('/content/drive')"
      ],
      "metadata": {
        "colab": {
          "base_uri": "https://localhost:8080/"
        },
        "id": "yT4rrpe9hh6L",
        "outputId": "b944a8f4-6f72-414c-dc3b-4d3c76418f45"
      },
      "execution_count": null,
      "outputs": [
        {
          "output_type": "stream",
          "name": "stdout",
          "text": [
            "Mounted at /content/drive\n"
          ]
        }
      ]
    },
    {
      "cell_type": "code",
      "source": [
        "Train_dataset_path = '/content/drive/MyDrive/Reverse/Train5Percent'\n",
        "Validation_dataset_path = '/content/drive/MyDrive/Reverse/Validation'\n",
        "Test_dataset_path = '/content/drive/MyDrive/Reverse/Test'\n",
        "\n",
        "models_path='/content/drive/My Drive/Thesis_ViT_Models/UnfrozenViT5percent.pth'"
      ],
      "metadata": {
        "id": "G5xuK_GEht40"
      },
      "execution_count": null,
      "outputs": []
    },
    {
      "cell_type": "code",
      "source": [
        "pretrained_vit_transforms = pretrained_vit_weights.transforms()\n",
        "print(pretrained_vit_transforms)"
      ],
      "metadata": {
        "colab": {
          "base_uri": "https://localhost:8080/"
        },
        "id": "2w8uFiw3iNLM",
        "outputId": "100b2978-fc67-478f-bba4-c22c29476506"
      },
      "execution_count": null,
      "outputs": [
        {
          "output_type": "stream",
          "name": "stdout",
          "text": [
            "ImageClassification(\n",
            "    crop_size=[224]\n",
            "    resize_size=[256]\n",
            "    mean=[0.485, 0.456, 0.406]\n",
            "    std=[0.229, 0.224, 0.225]\n",
            "    interpolation=InterpolationMode.BILINEAR\n",
            ")\n"
          ]
        }
      ]
    },
    {
      "cell_type": "code",
      "source": [
        "NUM_WORKERS = os.cpu_count()\n",
        "\n",
        "def create_dataloaders(\n",
        "    train_dir: str,\n",
        "    val_dir: str,\n",
        "    test_dir: str,\n",
        "    transform: transforms.Compose,\n",
        "    batch_size: int,\n",
        "    num_workers: int = NUM_WORKERS\n",
        "):\n",
        "    # Create datasets for each directory\n",
        "    train_dataset = datasets.ImageFolder(root=train_dir, transform=transform)\n",
        "    val_dataset = datasets.ImageFolder(root=val_dir, transform=transform)\n",
        "    test_dataset = datasets.ImageFolder(root=test_dir, transform=transform)\n",
        "\n",
        "    # Create dataloaders\n",
        "    train_dataloader = DataLoader(train_dataset, batch_size=batch_size, shuffle=True, num_workers=num_workers, pin_memory=True)\n",
        "    val_dataloader = DataLoader(val_dataset, batch_size=batch_size, shuffle=False, num_workers=num_workers, pin_memory=True)\n",
        "    test_dataloader = DataLoader(test_dataset, batch_size=batch_size, shuffle=False, num_workers=num_workers, pin_memory=True)\n",
        "\n",
        "    return train_dataloader, val_dataloader, test_dataloader"
      ],
      "metadata": {
        "id": "FVD6fAFGiPB3"
      },
      "execution_count": null,
      "outputs": []
    },
    {
      "cell_type": "code",
      "source": [
        "train_dataloader_pretrained, test_dataloader_pretrained = create_dataloaders(data_dir=dataset_path, transform=pretrained_vit_transforms, batch_size=32, random_seed=45, fraction=0.0625)"
      ],
      "metadata": {
        "id": "lWB8nELWiRFN"
      },
      "execution_count": null,
      "outputs": []
    },
    {
      "cell_type": "code",
      "source": [
        "def train_step(model: torch.nn.Module,\n",
        "               dataloader: torch.utils.data.DataLoader,\n",
        "               loss_fn: torch.nn.Module,\n",
        "               optimizer: torch.optim.Optimizer,\n",
        "               device: torch.device) -> Tuple[float, float]:\n",
        "    \"\"\"Trains a PyTorch model for a single epoch.\n",
        "\n",
        "    Turns a target PyTorch model to training mode and then\n",
        "    runs through all of the required training steps (forward\n",
        "    pass, loss calculation, optimizer step).\n",
        "\n",
        "    Args:\n",
        "    model: A PyTorch model to be trained.\n",
        "    dataloader: A DataLoader instance for the model to be trained on.\n",
        "    loss_fn: A PyTorch loss function to minimize.\n",
        "    optimizer: A PyTorch optimizer to help minimize the loss function.\n",
        "    device: A target device to compute on (e.g. \"cuda\" or \"cpu\").\n",
        "\n",
        "    Returns:\n",
        "    A tuple of training loss and training accuracy metrics.\n",
        "    In the form (train_loss, train_accuracy).\n",
        "\n",
        "    \"\"\"\n",
        "\n",
        "    model.train()\n",
        "    train_loss, train_acc = 0, 0\n",
        "\n",
        "    for batch, (X, y) in enumerate(dataloader):\n",
        "        X, y = X.to(device), y.to(device)\n",
        "        y_pred = model(X)\n",
        "        loss = loss_fn(y_pred, y)\n",
        "        train_loss += loss.item()\n",
        "        optimizer.zero_grad()\n",
        "        loss.backward()\n",
        "        optimizer.step()\n",
        "        y_pred_class = torch.argmax(torch.softmax(y_pred, dim=1), dim=1)\n",
        "        train_acc += (y_pred_class == y).sum().item()/len(y_pred)\n",
        "\n",
        "    train_loss = train_loss / len(dataloader)\n",
        "    train_acc = train_acc / len(dataloader)\n",
        "    return train_loss, train_acc\n",
        "\n",
        "def test_step(model: torch.nn.Module,\n",
        "              dataloader: torch.utils.data.DataLoader,\n",
        "              loss_fn: torch.nn.Module,\n",
        "              device: torch.device) -> Tuple[float, float]:\n",
        "    \"\"\"Tests a PyTorch model for a single epoch.\n",
        "\n",
        "    Turns a target PyTorch model to \"eval\" mode and then performs\n",
        "    a forward pass on a testing dataset.\n",
        "\n",
        "    Args:\n",
        "    model: A PyTorch model to be tested.\n",
        "    dataloader: A DataLoader instance for the model to be tested on.\n",
        "    loss_fn: A PyTorch loss function to calculate loss on the test data.\n",
        "    device: A target device to compute on (e.g. \"cuda\" or \"cpu\").\n",
        "\n",
        "    Returns:\n",
        "    A tuple of testing loss and testing accuracy metrics.\n",
        "    In the form (test_loss, test_accuracy).\n",
        "    \"\"\"\n",
        "    model.eval()\n",
        "\n",
        "    test_loss, test_acc = 0, 0\n",
        "\n",
        "    with torch.inference_mode():\n",
        "\n",
        "        for batch, (X, y) in enumerate(dataloader):\n",
        "            X, y = X.to(device), y.to(device)\n",
        "            test_pred_logits = model(X)\n",
        "            loss = loss_fn(test_pred_logits, y)\n",
        "            test_loss += loss.item()\n",
        "            test_pred_labels = test_pred_logits.argmax(dim=1)\n",
        "            test_acc += ((test_pred_labels == y).sum().item()/len(test_pred_labels))\n",
        "\n",
        "    test_loss = test_loss / len(dataloader)\n",
        "    test_acc = test_acc / len(dataloader)\n",
        "    return test_loss, test_acc\n",
        "\n",
        "def train(model: torch.nn.Module,\n",
        "                              train_dataloader: torch.utils.data.DataLoader,\n",
        "                              test_dataloader: torch.utils.data.DataLoader,\n",
        "                              optimizer: torch.optim.Optimizer,\n",
        "                              loss_fn: torch.nn.Module,\n",
        "                              epochs: int,\n",
        "                              device: torch.device,\n",
        "                              patience: int) -> Dict[str, List]:\n",
        "    \"\"\"\n",
        "    Trains and tests a PyTorch model with early stopping.\n",
        "\n",
        "    Args:\n",
        "    model: A PyTorch model to be trained and tested.\n",
        "    train_dataloader: A DataLoader instance for the model to be trained on.\n",
        "    test_dataloader: A DataLoader instance for the model to be tested on.\n",
        "    optimizer: A PyTorch optimizer to help minimize the loss function.\n",
        "    loss_fn: A PyTorch loss function to calculate loss on both datasets.\n",
        "    epochs: An integer indicating how many epochs to train for.\n",
        "    device: A target device to compute on (e.g. \"cuda\" or \"cpu\").\n",
        "    patience: An integer indicating how many epochs to wait for improvement\n",
        "              in validation loss before stopping early.\n",
        "\n",
        "    Returns:\n",
        "    A dictionary of training and testing loss as well as training and\n",
        "    testing accuracy metrics.\n",
        "    \"\"\"\n",
        "    results = {\"train_loss\": [],\n",
        "               \"train_acc\": [],\n",
        "               \"test_loss\": [],\n",
        "               \"test_acc\": []\n",
        "    }\n",
        "\n",
        "    model.to(device)\n",
        "\n",
        "    # Early stopping variables\n",
        "    best_loss = float('inf')\n",
        "    patience_counter = 0\n",
        "\n",
        "    for epoch in tqdm(range(epochs)):\n",
        "        train_loss, train_acc = train_step(model=model,\n",
        "                                           dataloader=train_dataloader,\n",
        "                                           loss_fn=loss_fn,\n",
        "                                           optimizer=optimizer,\n",
        "                                           device=device)\n",
        "        test_loss, test_acc = test_step(model=model,\n",
        "                                        dataloader=test_dataloader,\n",
        "                                        loss_fn=loss_fn,\n",
        "                                        device=device)\n",
        "\n",
        "\n",
        "        print(\n",
        "            f\"Epoch: {epoch+1} | \"\n",
        "            f\"train_loss: {train_loss:.4f} | \"\n",
        "            f\"train_acc: {train_acc:.4f} | \"\n",
        "            f\"test_loss: {test_loss:.4f} | \"\n",
        "            f\"test_acc: {test_acc:.4f}\"\n",
        "        )\n",
        "\n",
        "\n",
        "        results[\"train_loss\"].append(train_loss)\n",
        "        results[\"train_acc\"].append(train_acc)\n",
        "        results[\"test_loss\"].append(test_loss)\n",
        "        results[\"test_acc\"].append(test_acc)\n",
        "\n",
        "\n",
        "        if test_loss < best_loss:\n",
        "            best_loss = test_loss\n",
        "            patience_counter = 0\n",
        "        else:\n",
        "            patience_counter += 1\n",
        "\n",
        "        # Stop training if patience is exceeded\n",
        "        if patience_counter >= patience:\n",
        "            print(f\"Early stopping triggered after {epoch+1} epochs!\")\n",
        "            break\n",
        "\n",
        "    return results"
      ],
      "metadata": {
        "id": "EMGWGScIiSn3"
      },
      "execution_count": null,
      "outputs": []
    },
    {
      "cell_type": "code",
      "source": [
        "#Loss function\n",
        "loss_fn = torch.nn.CrossEntropyLoss()"
      ],
      "metadata": {
        "id": "_068-uumiVYc"
      },
      "execution_count": null,
      "outputs": []
    },
    {
      "cell_type": "code",
      "source": [
        "# Create optimizer and loss function\n",
        "optimizer = torch.optim.AdamW(params=pretrained_vit.parameters(),\n",
        "                             lr=1e-4)\n",
        "\n",
        "# Train the classifier head of the pretrained ViT feature extractor model\n",
        "pretrained_vit_results = train(model=pretrained_vit,\n",
        "                                      train_dataloader=train_dataloader_pretrained,\n",
        "                                      test_dataloader=val_dataloader_pretrained,\n",
        "                                      optimizer=optimizer,\n",
        "                                      loss_fn=loss_fn,\n",
        "                                      epochs=100,\n",
        "                                      device=device,\n",
        "                                      patience=3)"
      ],
      "metadata": {
        "colab": {
          "base_uri": "https://localhost:8080/",
          "height": 1000,
          "referenced_widgets": [
            "85953cb692d4400d80c4c30b23c8e06f",
            "f2c613ffa5484a25908f00acd2d951b8",
            "e9920677cad14a12b499b698ae4c1035",
            "adb829b45eee44d484e4d3b50b5d5fac",
            "6e3cc8cd38994d73af4b5af86ab26237",
            "c204f59854a54e2cb731975beb93cb48",
            "f0a6a22bad114cec9bc5a59ec95f0e0a",
            "259a7f59f41d425aa1630e7625e5ca1b",
            "4574250782cd40d0a01ca7262dbfb895",
            "c00c484e6e8b4cf1810ec6973666f286",
            "264e5cca89e649a19b0aeb40d6130018"
          ]
        },
        "id": "yn2sVL1fiX5w",
        "outputId": "e7d19935-9457-4c76-b6ef-a8f45e4a1cba"
      },
      "execution_count": null,
      "outputs": [
        {
          "output_type": "display_data",
          "data": {
            "text/plain": [
              "  0%|          | 0/100 [00:00<?, ?it/s]"
            ],
            "application/vnd.jupyter.widget-view+json": {
              "version_major": 2,
              "version_minor": 0,
              "model_id": "85953cb692d4400d80c4c30b23c8e06f"
            }
          },
          "metadata": {}
        },
        {
          "output_type": "stream",
          "name": "stdout",
          "text": [
            "Epoch: 1 | train_loss: 4.1244 | train_acc: 0.0375 | test_loss: 4.0494 | test_acc: 0.0451\n",
            "Epoch: 2 | train_loss: 3.5172 | train_acc: 0.2062 | test_loss: 3.4466 | test_acc: 0.2611\n",
            "Epoch: 3 | train_loss: 2.0431 | train_acc: 0.6927 | test_loss: 2.2400 | test_acc: 0.6160\n",
            "Epoch: 4 | train_loss: 0.7909 | train_acc: 0.9563 | test_loss: 1.5581 | test_acc: 0.7555\n",
            "Epoch: 5 | train_loss: 0.2555 | train_acc: 1.0000 | test_loss: 1.2020 | test_acc: 0.8207\n",
            "Epoch: 6 | train_loss: 0.0949 | train_acc: 1.0000 | test_loss: 1.0129 | test_acc: 0.8516\n",
            "Epoch: 7 | train_loss: 0.0483 | train_acc: 1.0000 | test_loss: 0.8974 | test_acc: 0.8754\n",
            "Epoch: 8 | train_loss: 0.0309 | train_acc: 1.0000 | test_loss: 0.8327 | test_acc: 0.8804\n",
            "Epoch: 9 | train_loss: 0.0237 | train_acc: 1.0000 | test_loss: 0.8101 | test_acc: 0.8852\n",
            "Epoch: 10 | train_loss: 0.0191 | train_acc: 1.0000 | test_loss: 0.7872 | test_acc: 0.8836\n",
            "Epoch: 11 | train_loss: 0.0166 | train_acc: 1.0000 | test_loss: 0.7774 | test_acc: 0.8828\n",
            "Epoch: 12 | train_loss: 0.0148 | train_acc: 1.0000 | test_loss: 0.7715 | test_acc: 0.8853\n",
            "Epoch: 13 | train_loss: 0.0134 | train_acc: 1.0000 | test_loss: 0.7609 | test_acc: 0.8861\n",
            "Epoch: 14 | train_loss: 0.0121 | train_acc: 1.0000 | test_loss: 0.7542 | test_acc: 0.8861\n",
            "Epoch: 15 | train_loss: 0.0111 | train_acc: 1.0000 | test_loss: 0.7520 | test_acc: 0.8828\n",
            "Epoch: 16 | train_loss: 0.0102 | train_acc: 1.0000 | test_loss: 0.7446 | test_acc: 0.8861\n",
            "Epoch: 17 | train_loss: 0.0095 | train_acc: 1.0000 | test_loss: 0.7393 | test_acc: 0.8869\n",
            "Epoch: 18 | train_loss: 0.0088 | train_acc: 1.0000 | test_loss: 0.7361 | test_acc: 0.8877\n",
            "Epoch: 19 | train_loss: 0.0083 | train_acc: 1.0000 | test_loss: 0.7301 | test_acc: 0.8837\n",
            "Epoch: 20 | train_loss: 0.0078 | train_acc: 1.0000 | test_loss: 0.7290 | test_acc: 0.8812\n",
            "Epoch: 21 | train_loss: 0.0073 | train_acc: 1.0000 | test_loss: 0.7232 | test_acc: 0.8837\n",
            "Epoch: 22 | train_loss: 0.0069 | train_acc: 1.0000 | test_loss: 0.7227 | test_acc: 0.8821\n",
            "Epoch: 23 | train_loss: 0.0065 | train_acc: 1.0000 | test_loss: 0.7167 | test_acc: 0.8821\n",
            "Epoch: 24 | train_loss: 0.0062 | train_acc: 1.0000 | test_loss: 0.7131 | test_acc: 0.8805\n",
            "Epoch: 25 | train_loss: 0.0058 | train_acc: 1.0000 | test_loss: 0.7120 | test_acc: 0.8805\n",
            "Epoch: 26 | train_loss: 0.0056 | train_acc: 1.0000 | test_loss: 0.7107 | test_acc: 0.8812\n",
            "Epoch: 27 | train_loss: 0.0053 | train_acc: 1.0000 | test_loss: 0.7038 | test_acc: 0.8813\n",
            "Epoch: 28 | train_loss: 0.0051 | train_acc: 1.0000 | test_loss: 0.7046 | test_acc: 0.8780\n",
            "Epoch: 29 | train_loss: 0.0049 | train_acc: 1.0000 | test_loss: 0.7024 | test_acc: 0.8780\n",
            "Epoch: 30 | train_loss: 0.0047 | train_acc: 1.0000 | test_loss: 0.6986 | test_acc: 0.8789\n",
            "Epoch: 31 | train_loss: 0.0045 | train_acc: 1.0000 | test_loss: 0.6976 | test_acc: 0.8797\n",
            "Epoch: 32 | train_loss: 0.0043 | train_acc: 1.0000 | test_loss: 0.6966 | test_acc: 0.8797\n",
            "Epoch: 33 | train_loss: 0.0041 | train_acc: 1.0000 | test_loss: 0.6933 | test_acc: 0.8789\n",
            "Epoch: 34 | train_loss: 0.0040 | train_acc: 1.0000 | test_loss: 0.6928 | test_acc: 0.8789\n",
            "Epoch: 35 | train_loss: 0.0038 | train_acc: 1.0000 | test_loss: 0.6905 | test_acc: 0.8765\n",
            "Epoch: 36 | train_loss: 0.0037 | train_acc: 1.0000 | test_loss: 0.6880 | test_acc: 0.8772\n",
            "Epoch: 37 | train_loss: 0.0036 | train_acc: 1.0000 | test_loss: 0.6872 | test_acc: 0.8757\n",
            "Epoch: 38 | train_loss: 0.0035 | train_acc: 1.0000 | test_loss: 0.6863 | test_acc: 0.8757\n",
            "Epoch: 39 | train_loss: 0.0034 | train_acc: 1.0000 | test_loss: 0.6831 | test_acc: 0.8765\n",
            "Epoch: 40 | train_loss: 0.0032 | train_acc: 1.0000 | test_loss: 0.6822 | test_acc: 0.8765\n",
            "Epoch: 41 | train_loss: 0.0032 | train_acc: 1.0000 | test_loss: 0.6805 | test_acc: 0.8765\n",
            "Epoch: 42 | train_loss: 0.0030 | train_acc: 1.0000 | test_loss: 0.6795 | test_acc: 0.8749\n",
            "Epoch: 43 | train_loss: 0.0029 | train_acc: 1.0000 | test_loss: 0.6781 | test_acc: 0.8740\n",
            "Epoch: 44 | train_loss: 0.0029 | train_acc: 1.0000 | test_loss: 0.6758 | test_acc: 0.8757\n",
            "Epoch: 45 | train_loss: 0.0028 | train_acc: 1.0000 | test_loss: 0.6754 | test_acc: 0.8757\n",
            "Epoch: 46 | train_loss: 0.0027 | train_acc: 1.0000 | test_loss: 0.6758 | test_acc: 0.8749\n",
            "Epoch: 47 | train_loss: 0.0026 | train_acc: 1.0000 | test_loss: 0.6728 | test_acc: 0.8749\n",
            "Epoch: 48 | train_loss: 0.0026 | train_acc: 1.0000 | test_loss: 0.6723 | test_acc: 0.8740\n",
            "Epoch: 49 | train_loss: 0.0025 | train_acc: 1.0000 | test_loss: 0.6710 | test_acc: 0.8740\n",
            "Epoch: 50 | train_loss: 0.0024 | train_acc: 1.0000 | test_loss: 0.6696 | test_acc: 0.8740\n",
            "Epoch: 51 | train_loss: 0.0024 | train_acc: 1.0000 | test_loss: 0.6693 | test_acc: 0.8740\n",
            "Epoch: 52 | train_loss: 0.0023 | train_acc: 1.0000 | test_loss: 0.6682 | test_acc: 0.8740\n",
            "Epoch: 53 | train_loss: 0.0023 | train_acc: 1.0000 | test_loss: 0.6666 | test_acc: 0.8749\n",
            "Epoch: 54 | train_loss: 0.0022 | train_acc: 1.0000 | test_loss: 0.6651 | test_acc: 0.8740\n",
            "Epoch: 55 | train_loss: 0.0022 | train_acc: 1.0000 | test_loss: 0.6652 | test_acc: 0.8740\n",
            "Epoch: 56 | train_loss: 0.0021 | train_acc: 1.0000 | test_loss: 0.6621 | test_acc: 0.8740\n",
            "Epoch: 57 | train_loss: 0.0021 | train_acc: 1.0000 | test_loss: 0.6631 | test_acc: 0.8740\n",
            "Epoch: 58 | train_loss: 0.0020 | train_acc: 1.0000 | test_loss: 0.6631 | test_acc: 0.8740\n",
            "Epoch: 59 | train_loss: 0.0020 | train_acc: 1.0000 | test_loss: 0.6616 | test_acc: 0.8732\n",
            "Epoch: 60 | train_loss: 0.0019 | train_acc: 1.0000 | test_loss: 0.6601 | test_acc: 0.8740\n",
            "Epoch: 61 | train_loss: 0.0019 | train_acc: 1.0000 | test_loss: 0.6589 | test_acc: 0.8740\n",
            "Epoch: 62 | train_loss: 0.0019 | train_acc: 1.0000 | test_loss: 0.6595 | test_acc: 0.8740\n",
            "Epoch: 63 | train_loss: 0.0018 | train_acc: 1.0000 | test_loss: 0.6571 | test_acc: 0.8749\n",
            "Epoch: 64 | train_loss: 0.0018 | train_acc: 1.0000 | test_loss: 0.6570 | test_acc: 0.8740\n",
            "Epoch: 65 | train_loss: 0.0017 | train_acc: 1.0000 | test_loss: 0.6572 | test_acc: 0.8740\n",
            "Epoch: 66 | train_loss: 0.0017 | train_acc: 1.0000 | test_loss: 0.6569 | test_acc: 0.8740\n",
            "Epoch: 67 | train_loss: 0.0017 | train_acc: 1.0000 | test_loss: 0.6550 | test_acc: 0.8732\n",
            "Epoch: 68 | train_loss: 0.0016 | train_acc: 1.0000 | test_loss: 0.6563 | test_acc: 0.8740\n",
            "Epoch: 69 | train_loss: 0.0016 | train_acc: 1.0000 | test_loss: 0.6539 | test_acc: 0.8732\n",
            "Epoch: 70 | train_loss: 0.0016 | train_acc: 1.0000 | test_loss: 0.6534 | test_acc: 0.8740\n",
            "Epoch: 71 | train_loss: 0.0016 | train_acc: 1.0000 | test_loss: 0.6538 | test_acc: 0.8724\n",
            "Epoch: 72 | train_loss: 0.0015 | train_acc: 1.0000 | test_loss: 0.6522 | test_acc: 0.8732\n",
            "Epoch: 73 | train_loss: 0.0015 | train_acc: 1.0000 | test_loss: 0.6527 | test_acc: 0.8740\n",
            "Epoch: 74 | train_loss: 0.0015 | train_acc: 1.0000 | test_loss: 0.6510 | test_acc: 0.8732\n",
            "Epoch: 75 | train_loss: 0.0015 | train_acc: 1.0000 | test_loss: 0.6515 | test_acc: 0.8732\n",
            "Epoch: 76 | train_loss: 0.0014 | train_acc: 1.0000 | test_loss: 0.6498 | test_acc: 0.8732\n",
            "Epoch: 77 | train_loss: 0.0014 | train_acc: 1.0000 | test_loss: 0.6499 | test_acc: 0.8724\n",
            "Epoch: 78 | train_loss: 0.0014 | train_acc: 1.0000 | test_loss: 0.6492 | test_acc: 0.8724\n",
            "Epoch: 79 | train_loss: 0.0014 | train_acc: 1.0000 | test_loss: 0.6492 | test_acc: 0.8732\n",
            "Epoch: 80 | train_loss: 0.0013 | train_acc: 1.0000 | test_loss: 0.6482 | test_acc: 0.8732\n",
            "Epoch: 81 | train_loss: 0.0013 | train_acc: 1.0000 | test_loss: 0.6485 | test_acc: 0.8724\n",
            "Epoch: 82 | train_loss: 0.0013 | train_acc: 1.0000 | test_loss: 0.6480 | test_acc: 0.8732\n",
            "Epoch: 83 | train_loss: 0.0013 | train_acc: 1.0000 | test_loss: 0.6469 | test_acc: 0.8740\n",
            "Epoch: 84 | train_loss: 0.0012 | train_acc: 1.0000 | test_loss: 0.6470 | test_acc: 0.8724\n",
            "Epoch: 85 | train_loss: 0.0012 | train_acc: 1.0000 | test_loss: 0.6459 | test_acc: 0.8732\n",
            "Epoch: 86 | train_loss: 0.0012 | train_acc: 1.0000 | test_loss: 0.6461 | test_acc: 0.8724\n",
            "Epoch: 87 | train_loss: 0.0012 | train_acc: 1.0000 | test_loss: 0.6451 | test_acc: 0.8732\n",
            "Epoch: 88 | train_loss: 0.0012 | train_acc: 1.0000 | test_loss: 0.6434 | test_acc: 0.8732\n",
            "Epoch: 89 | train_loss: 0.0012 | train_acc: 1.0000 | test_loss: 0.6444 | test_acc: 0.8732\n",
            "Epoch: 90 | train_loss: 0.0011 | train_acc: 1.0000 | test_loss: 0.6435 | test_acc: 0.8732\n",
            "Epoch: 91 | train_loss: 0.0011 | train_acc: 1.0000 | test_loss: 0.6444 | test_acc: 0.8724\n",
            "Early stopping triggered after 91 epochs!\n"
          ]
        }
      ]
    },
    {
      "cell_type": "code",
      "source": [
        "#Save the model\n",
        "torch.save(obj=pretrained_vit.state_dict(), f=models_path)"
      ],
      "metadata": {
        "id": "b1zlK4-jiceq"
      },
      "execution_count": null,
      "outputs": []
    },
    {
      "cell_type": "code",
      "source": [
        "# Plot loss curves of a model\n",
        "def plot_loss_curves(results):\n",
        "    \"\"\"Plots training curves of a results dictionary.\n",
        "\n",
        "    Args:\n",
        "        results (dict): dictionary containing list of values, e.g.\n",
        "            {\"train_loss\": [...],\n",
        "             \"train_acc\": [...],\n",
        "             \"test_loss\": [...],\n",
        "             \"test_acc\": [...]}\n",
        "    \"\"\"\n",
        "    loss = results[\"train_loss\"]\n",
        "    test_loss = results[\"test_loss\"]\n",
        "\n",
        "    accuracy = results[\"train_acc\"]\n",
        "    test_accuracy = results[\"test_acc\"]\n",
        "\n",
        "    epochs = range(len(results[\"train_loss\"]))\n",
        "\n",
        "    plt.figure(figsize=(15, 7))\n",
        "\n",
        "    # Plot loss\n",
        "    plt.subplot(1, 2, 1)\n",
        "    plt.plot(epochs, loss, label=\"train_loss\")\n",
        "    plt.plot(epochs, test_loss, label=\"test_loss\")\n",
        "    plt.title(\"Loss\")\n",
        "    plt.xlabel(\"Epochs\")\n",
        "    plt.legend()\n",
        "\n",
        "    # Plot accuracy\n",
        "    plt.subplot(1, 2, 2)\n",
        "    plt.plot(epochs, accuracy, label=\"train_accuracy\")\n",
        "    plt.plot(epochs, test_accuracy, label=\"test_accuracy\")\n",
        "    plt.title(\"Accuracy\")\n",
        "    plt.xlabel(\"Epochs\")\n",
        "    plt.legend()"
      ],
      "metadata": {
        "id": "3VOIBgbxiiMJ"
      },
      "execution_count": null,
      "outputs": []
    },
    {
      "cell_type": "code",
      "source": [
        "plot_loss_curves(pretrained_vit_results)"
      ],
      "metadata": {
        "colab": {
          "base_uri": "https://localhost:8080/",
          "height": 641
        },
        "id": "dPFQfHAIikrZ",
        "outputId": "97f29967-d02d-4327-de81-fe6e764a7b7a"
      },
      "execution_count": null,
      "outputs": [
        {
          "output_type": "display_data",
          "data": {
            "text/plain": [
              "<Figure size 1500x700 with 2 Axes>"
            ],
            "image/png": "[encoded data removed]"
          },
          "metadata": {}
        }
      ]
    },
    {
      "cell_type": "code",
      "source": [
        "# Load the model\n",
        "pretrained_vit.load_state_dict(torch.load(models_path))\n",
        "\n",
        "# Perform evaluation on the test set\n",
        "final_test_loss, final_test_acc = test_step(\n",
        "    model=pretrained_vit,\n",
        "    dataloader=test_dataloader_pretrained,\n",
        "    loss_fn=loss_fn,\n",
        "    device=device\n",
        ")\n",
        "\n",
        "print(f\"Final Test Loss: {final_test_loss:.4f}\")\n",
        "print(f\"Final Test Accuracy: {final_test_acc:.4f}\")"
      ],
      "metadata": {
        "id": "cSmqoihYinOF"
      },
      "execution_count": null,
      "outputs": []
    },
    {
      "cell_type": "code",
      "source": [],
      "metadata": {
        "id": "8gLuls0KtvAu"
      },
      "execution_count": null,
      "outputs": []
    }
  ]
}