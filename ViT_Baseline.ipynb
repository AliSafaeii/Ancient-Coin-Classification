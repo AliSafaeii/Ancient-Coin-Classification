{
  "nbformat": 4,
  "nbformat_minor": 0,
  "metadata": {
    "colab": {
      "provenance": []
    },
    "kernelspec": {
      "name": "python3",
      "display_name": "Python 3"
    },
    "language_info": {
      "name": "python"
    }
  },
  "cells": [
    {
      "cell_type": "code",
      "execution_count": null,
      "metadata": {
        "id": "HWZqJIjc9Pb5"
      },
      "outputs": [],
      "source": [
        "import matplotlib.pyplot as plt\n",
        "import torch\n",
        "import torchvision\n",
        "from torch import nn\n",
        "import os\n",
        "from torchvision import datasets, transforms\n",
        "from torch.utils.data import random_split, DataLoader\n",
        "from tqdm.auto import tqdm\n",
        "from typing import Dict, List, Tuple\n",
        "import random\n",
        "import numpy as np"
      ]
    },
    {
      "cell_type": "code",
      "source": [
        "!pip install torchinfo"
      ],
      "metadata": {
        "colab": {
          "base_uri": "https://localhost:8080/"
        },
        "id": "9kWVYutvAov1",
        "outputId": "73f22384-50f7-4e2a-cc52-738b2d898e3f"
      },
      "execution_count": null,
      "outputs": [
        {
          "output_type": "stream",
          "name": "stdout",
          "text": [
            "Requirement already satisfied: torchinfo in /usr/local/lib/python3.11/dist-packages (1.8.0)\n"
          ]
        }
      ]
    },
    {
      "cell_type": "code",
      "source": [
        "device = torch.device('cuda' if torch.cuda.is_available() else 'cpu')\n",
        "device"
      ],
      "metadata": {
        "colab": {
          "base_uri": "https://localhost:8080/"
        },
        "id": "g5rNLEErUsyd",
        "outputId": "e1add7df-33a1-4e65-f03f-78a91a02869f"
      },
      "execution_count": null,
      "outputs": [
        {
          "output_type": "execute_result",
          "data": {
            "text/plain": [
              "device(type='cuda')"
            ]
          },
          "metadata": {},
          "execution_count": 3
        }
      ]
    },
    {
      "cell_type": "code",
      "source": [
        "# Get pretrained weights for ViT-Base\n",
        "pretrained_vit_weights = torchvision.models.ViT_B_16_Weights.DEFAULT\n",
        "\n",
        "# Setup a ViT model instance with pretrained weights\n",
        "pretrained_vit = torchvision.models.vit_b_16(weights=pretrained_vit_weights).to(device)\n",
        "\n",
        "# Freeze the base parameters\n",
        "for parameter in pretrained_vit.parameters():\n",
        "    parameter.requires_grad = False\n",
        "\n",
        "pretrained_vit.heads = nn.Linear(in_features=768, out_features=60).to(device)"
      ],
      "metadata": {
        "colab": {
          "base_uri": "https://localhost:8080/"
        },
        "id": "GwajCRk0-v8U",
        "outputId": "7d2a67f2-c67a-44e2-d180-b34a3dec199b"
      },
      "execution_count": null,
      "outputs": [
        {
          "output_type": "stream",
          "name": "stderr",
          "text": [
            "Downloading: \"https://download.pytorch.org/models/vit_b_16-c867db91.pth\" to /root/.cache/torch/hub/checkpoints/vit_b_16-c867db91.pth\n",
            "100%|██████████| 330M/330M [00:01<00:00, 203MB/s]\n"
          ]
        }
      ]
    },
    {
      "cell_type": "code",
      "source": [
        "from torchinfo import summary\n",
        "\n",
        "summary(model=pretrained_vit,\n",
        "        input_size = (32, 3, 224, 224),\n",
        "        col_names=[\"input_size\", \"output_size\", \"num_params\", \"trainable\"])"
      ],
      "metadata": {
        "colab": {
          "base_uri": "https://localhost:8080/"
        },
        "id": "4lP05ONj_EYP",
        "outputId": "8dc83657-61ce-4ddb-afdc-a0539270d97f"
      },
      "execution_count": null,
      "outputs": [
        {
          "output_type": "execute_result",
          "data": {
            "text/plain": [
              "=================================================================================================================================================\n",
              "Layer (type:depth-idx)                        Input Shape               Output Shape              Param #                   Trainable\n",
              "=================================================================================================================================================\n",
              "VisionTransformer                             [32, 3, 224, 224]         [32, 60]                  768                       Partial\n",
              "├─Conv2d: 1-1                                 [32, 3, 224, 224]         [32, 768, 14, 14]         (590,592)                 False\n",
              "├─Encoder: 1-2                                [32, 197, 768]            [32, 197, 768]            151,296                   False\n",
              "│    └─Dropout: 2-1                           [32, 197, 768]            [32, 197, 768]            --                        --\n",
              "│    └─Sequential: 2-2                        [32, 197, 768]            [32, 197, 768]            --                        False\n",
              "│    │    └─EncoderBlock: 3-1                 [32, 197, 768]            [32, 197, 768]            (7,087,872)               False\n",
              "│    │    └─EncoderBlock: 3-2                 [32, 197, 768]            [32, 197, 768]            (7,087,872)               False\n",
              "│    │    └─EncoderBlock: 3-3                 [32, 197, 768]            [32, 197, 768]            (7,087,872)               False\n",
              "│    │    └─EncoderBlock: 3-4                 [32, 197, 768]            [32, 197, 768]            (7,087,872)               False\n",
              "│    │    └─EncoderBlock: 3-5                 [32, 197, 768]            [32, 197, 768]            (7,087,872)               False\n",
              "│    │    └─EncoderBlock: 3-6                 [32, 197, 768]            [32, 197, 768]            (7,087,872)               False\n",
              "│    │    └─EncoderBlock: 3-7                 [32, 197, 768]            [32, 197, 768]            (7,087,872)               False\n",
              "│    │    └─EncoderBlock: 3-8                 [32, 197, 768]            [32, 197, 768]            (7,087,872)               False\n",
              "│    │    └─EncoderBlock: 3-9                 [32, 197, 768]            [32, 197, 768]            (7,087,872)               False\n",
              "│    │    └─EncoderBlock: 3-10                [32, 197, 768]            [32, 197, 768]            (7,087,872)               False\n",
              "│    │    └─EncoderBlock: 3-11                [32, 197, 768]            [32, 197, 768]            (7,087,872)               False\n",
              "│    │    └─EncoderBlock: 3-12                [32, 197, 768]            [32, 197, 768]            (7,087,872)               False\n",
              "│    └─LayerNorm: 2-3                         [32, 197, 768]            [32, 197, 768]            (1,536)                   False\n",
              "├─Linear: 1-3                                 [32, 768]                 [32, 60]                  46,140                    True\n",
              "=================================================================================================================================================\n",
              "Total params: 85,844,796\n",
              "Trainable params: 46,140\n",
              "Non-trainable params: 85,798,656\n",
              "Total mult-adds (G): 5.52\n",
              "=================================================================================================================================================\n",
              "Input size (MB): 19.27\n",
              "Forward/backward pass size (MB): 3330.75\n",
              "Params size (MB): 229.38\n",
              "Estimated Total Size (MB): 3579.40\n",
              "================================================================================================================================================="
            ]
          },
          "metadata": {},
          "execution_count": 5
        }
      ]
    },
    {
      "cell_type": "code",
      "source": [
        "from google.colab import drive\n",
        "drive.mount('/content/drive')"
      ],
      "metadata": {
        "colab": {
          "base_uri": "https://localhost:8080/"
        },
        "id": "DxK5Sa8NAaPl",
        "outputId": "8c848460-00a1-47b5-9556-1c5b4a797bf5"
      },
      "execution_count": null,
      "outputs": [
        {
          "output_type": "stream",
          "name": "stdout",
          "text": [
            "Mounted at /content/drive\n"
          ]
        }
      ]
    },
    {
      "cell_type": "code",
      "source": [
        "Train_dataset_path = '/content/drive/MyDrive/Reverse/Train'\n",
        "Validation_dataset_path = '/content/drive/MyDrive/Reverse/Validation'\n",
        "Test_dataset_path = '/content/drive/MyDrive/Reverse/Test'\n",
        "\n",
        "models_path='/content/drive/My Drive/ViT_Models/ViT_Initial.pth'"
      ],
      "metadata": {
        "id": "BlGDPGrKCnxZ"
      },
      "execution_count": null,
      "outputs": []
    },
    {
      "cell_type": "code",
      "source": [
        "pretrained_vit_transforms = pretrained_vit_weights.transforms()\n",
        "print(pretrained_vit_transforms)"
      ],
      "metadata": {
        "colab": {
          "base_uri": "https://localhost:8080/"
        },
        "id": "JcZndgnQCvp6",
        "outputId": "fa2e0822-96eb-434a-ec35-eb59c126ee25"
      },
      "execution_count": null,
      "outputs": [
        {
          "output_type": "stream",
          "name": "stdout",
          "text": [
            "ImageClassification(\n",
            "    crop_size=[224]\n",
            "    resize_size=[256]\n",
            "    mean=[0.485, 0.456, 0.406]\n",
            "    std=[0.229, 0.224, 0.225]\n",
            "    interpolation=InterpolationMode.BILINEAR\n",
            ")\n"
          ]
        }
      ]
    },
    {
      "cell_type": "code",
      "source": [
        "NUM_WORKERS = os.cpu_count()\n",
        "\n",
        "def create_dataloaders(\n",
        "    train_dir: str,\n",
        "    val_dir: str,\n",
        "    test_dir: str,\n",
        "    transform: transforms.Compose,\n",
        "    batch_size: int,\n",
        "    num_workers: int = NUM_WORKERS\n",
        "):\n",
        "    # Create datasets for each directory\n",
        "    train_dataset = datasets.ImageFolder(root=train_dir, transform=transform)\n",
        "    val_dataset = datasets.ImageFolder(root=val_dir, transform=transform)\n",
        "    test_dataset = datasets.ImageFolder(root=test_dir, transform=transform)\n",
        "\n",
        "    # Create dataloaders\n",
        "    train_dataloader = DataLoader(train_dataset, batch_size=batch_size, shuffle=True, num_workers=num_workers, pin_memory=True)\n",
        "    val_dataloader = DataLoader(val_dataset, batch_size=batch_size, shuffle=False, num_workers=num_workers, pin_memory=True)\n",
        "    test_dataloader = DataLoader(test_dataset, batch_size=batch_size, shuffle=False, num_workers=num_workers, pin_memory=True)\n",
        "\n",
        "    return train_dataloader, val_dataloader, test_dataloader"
      ],
      "metadata": {
        "id": "LDHIBB2lDLEA"
      },
      "execution_count": null,
      "outputs": []
    },
    {
      "cell_type": "code",
      "source": [
        "train_dataloader_pretrained, val_dataloader_pretrained, test_dataloader_pretrained = create_dataloaders(\n",
        "    train_dir=Train_dataset_path,\n",
        "    val_dir=Validation_dataset_path,\n",
        "    test_dir=Test_dataset_path,\n",
        "    transform=pretrained_vit_transforms,\n",
        "    batch_size=32\n",
        ")"
      ],
      "metadata": {
        "id": "fHmU2JziDj8Q"
      },
      "execution_count": null,
      "outputs": []
    },
    {
      "cell_type": "code",
      "source": [
        "def train_step(model: torch.nn.Module,\n",
        "               dataloader: torch.utils.data.DataLoader,\n",
        "               loss_fn: torch.nn.Module,\n",
        "               optimizer: torch.optim.Optimizer,\n",
        "               device: torch.device) -> Tuple[float, float]:\n",
        "    \"\"\"Trains a PyTorch model for a single epoch.\n",
        "\n",
        "    Turns a target PyTorch model to training mode and then\n",
        "    runs through all of the required training steps (forward\n",
        "    pass, loss calculation, optimizer step).\n",
        "\n",
        "    Args:\n",
        "    model: A PyTorch model to be trained.\n",
        "    dataloader: A DataLoader instance for the model to be trained on.\n",
        "    loss_fn: A PyTorch loss function to minimize.\n",
        "    optimizer: A PyTorch optimizer to help minimize the loss function.\n",
        "    device: A target device to compute on (e.g. \"cuda\" or \"cpu\").\n",
        "\n",
        "    Returns:\n",
        "    A tuple of training loss and training accuracy metrics.\n",
        "    In the form (train_loss, train_accuracy).\n",
        "\n",
        "    \"\"\"\n",
        "\n",
        "    model.train()\n",
        "    train_loss, train_acc = 0, 0\n",
        "\n",
        "    for batch, (X, y) in enumerate(dataloader):\n",
        "        X, y = X.to(device), y.to(device)\n",
        "        y_pred = model(X)\n",
        "        loss = loss_fn(y_pred, y)\n",
        "        train_loss += loss.item()\n",
        "        optimizer.zero_grad()\n",
        "        loss.backward()\n",
        "        optimizer.step()\n",
        "        y_pred_class = torch.argmax(torch.softmax(y_pred, dim=1), dim=1)\n",
        "        train_acc += (y_pred_class == y).sum().item()/len(y_pred)\n",
        "\n",
        "    train_loss = train_loss / len(dataloader)\n",
        "    train_acc = train_acc / len(dataloader)\n",
        "    return train_loss, train_acc\n",
        "\n",
        "def test_step(model: torch.nn.Module,\n",
        "              dataloader: torch.utils.data.DataLoader,\n",
        "              loss_fn: torch.nn.Module,\n",
        "              device: torch.device) -> Tuple[float, float]:\n",
        "    \"\"\"Tests a PyTorch model for a single epoch.\n",
        "\n",
        "    Turns a target PyTorch model to \"eval\" mode and then performs\n",
        "    a forward pass on a testing dataset.\n",
        "\n",
        "    Args:\n",
        "    model: A PyTorch model to be tested.\n",
        "    dataloader: A DataLoader instance for the model to be tested on.\n",
        "    loss_fn: A PyTorch loss function to calculate loss on the test data.\n",
        "    device: A target device to compute on (e.g. \"cuda\" or \"cpu\").\n",
        "\n",
        "    Returns:\n",
        "    A tuple of testing loss and testing accuracy metrics.\n",
        "    In the form (test_loss, test_accuracy).\n",
        "\n",
        "    \"\"\"\n",
        "    model.eval()\n",
        "\n",
        "    test_loss, test_acc = 0, 0\n",
        "\n",
        "    with torch.inference_mode():\n",
        "\n",
        "        for batch, (X, y) in enumerate(dataloader):\n",
        "            X, y = X.to(device), y.to(device)\n",
        "            test_pred_logits = model(X)\n",
        "            loss = loss_fn(test_pred_logits, y)\n",
        "            test_loss += loss.item()\n",
        "            test_pred_labels = test_pred_logits.argmax(dim=1)\n",
        "            test_acc += ((test_pred_labels == y).sum().item()/len(test_pred_labels))\n",
        "\n",
        "    test_loss = test_loss / len(dataloader)\n",
        "    test_acc = test_acc / len(dataloader)\n",
        "    return test_loss, test_acc\n",
        "\n",
        "def train(model: torch.nn.Module,\n",
        "                              train_dataloader: torch.utils.data.DataLoader,\n",
        "                              test_dataloader: torch.utils.data.DataLoader,\n",
        "                              optimizer: torch.optim.Optimizer,\n",
        "                              loss_fn: torch.nn.Module,\n",
        "                              epochs: int,\n",
        "                              device: torch.device,\n",
        "                              patience: int) -> Dict[str, List]:\n",
        "    \"\"\"\n",
        "    Trains and tests a PyTorch model with early stopping.\n",
        "\n",
        "    Args:\n",
        "    model: A PyTorch model to be trained and tested.\n",
        "    train_dataloader: A DataLoader instance for the model to be trained on.\n",
        "    test_dataloader: A DataLoader instance for the model to be tested on.\n",
        "    optimizer: A PyTorch optimizer to help minimize the loss function.\n",
        "    loss_fn: A PyTorch loss function to calculate loss on both datasets.\n",
        "    epochs: An integer indicating how many epochs to train for.\n",
        "    device: A target device to compute on (e.g. \"cuda\" or \"cpu\").\n",
        "    patience: An integer indicating how many epochs to wait for improvement\n",
        "              in validation loss before stopping early.\n",
        "\n",
        "    Returns:\n",
        "    A dictionary of training and testing loss as well as training and\n",
        "    testing accuracy metrics.\n",
        "    \"\"\"\n",
        "\n",
        "    results = {\"train_loss\": [],\n",
        "               \"train_acc\": [],\n",
        "               \"test_loss\": [],\n",
        "               \"test_acc\": []\n",
        "    }\n",
        "\n",
        "    model.to(device)\n",
        "\n",
        "    # Early stopping variables\n",
        "    best_loss = float('inf')\n",
        "    patience_counter = 0\n",
        "\n",
        "    for epoch in tqdm(range(epochs)):\n",
        "        train_loss, train_acc = train_step(model=model,\n",
        "                                           dataloader=train_dataloader,\n",
        "                                           loss_fn=loss_fn,\n",
        "                                           optimizer=optimizer,\n",
        "                                           device=device)\n",
        "        test_loss, test_acc = test_step(model=model,\n",
        "                                        dataloader=test_dataloader,\n",
        "                                        loss_fn=loss_fn,\n",
        "                                        device=device)\n",
        "\n",
        "\n",
        "        print(\n",
        "            f\"Epoch: {epoch+1} | \"\n",
        "            f\"train_loss: {train_loss:.4f} | \"\n",
        "            f\"train_acc: {train_acc:.4f} | \"\n",
        "            f\"test_loss: {test_loss:.4f} | \"\n",
        "            f\"test_acc: {test_acc:.4f}\"\n",
        "        )\n",
        "\n",
        "\n",
        "        results[\"train_loss\"].append(train_loss)\n",
        "        results[\"train_acc\"].append(train_acc)\n",
        "        results[\"test_loss\"].append(test_loss)\n",
        "        results[\"test_acc\"].append(test_acc)\n",
        "\n",
        "\n",
        "        if test_loss < best_loss:\n",
        "            best_loss = test_loss\n",
        "            patience_counter = 0\n",
        "        else:\n",
        "            patience_counter += 1\n",
        "\n",
        "        # Stop training if patience is exceeded\n",
        "        if patience_counter >= patience:\n",
        "            print(f\"Early stopping triggered after {epoch+1} epochs!\")\n",
        "            break\n",
        "\n",
        "    return results"
      ],
      "metadata": {
        "id": "SiBz_9m_IDFc"
      },
      "execution_count": null,
      "outputs": []
    },
    {
      "cell_type": "code",
      "source": [
        "#Loss function\n",
        "loss_fn = torch.nn.CrossEntropyLoss()"
      ],
      "metadata": {
        "id": "d-PmahecVL6W"
      },
      "execution_count": null,
      "outputs": []
    },
    {
      "cell_type": "code",
      "source": [
        "# Create optimizer and loss function\n",
        "optimizer = torch.optim.AdamW(params=pretrained_vit.parameters(),\n",
        "                             lr=1e-3)\n",
        "\n",
        "# Train the classifier head of the pretrained ViT feature extractor model\n",
        "pretrained_vit_results = train(model=pretrained_vit,\n",
        "                                      train_dataloader=train_dataloader_pretrained,\n",
        "                                      test_dataloader=val_dataloader_pretrained,\n",
        "                                      optimizer=optimizer,\n",
        "                                      loss_fn=loss_fn,\n",
        "                                      epochs=100,\n",
        "                                      device=device,\n",
        "                                      patience=3)"
      ],
      "metadata": {
        "colab": {
          "base_uri": "https://localhost:8080/",
          "height": 413,
          "referenced_widgets": [
            "ad0ce3527b7446268710c60a725b0cdf",
            "e6393d491f8f45b8b4d6bea7605b846a",
            "7dc057aa793142f6a6fd0aac1dc976b9",
            "61992fa58eb642228a1ee7cf857c8669",
            "30cb7d1494d74f4d9320138d01e3aa77",
            "a14c53b9e18847f2a8925892ee2637ea",
            "5a8fb3ea823f45ffa673439b30ecedf1",
            "d012aacb3a4f4f0c9351cd0b1e65c35e",
            "adf8587903a84c2bba5640aa7dd6c8ce",
            "0ad0a38beef54a9191b743d8fc8a157b",
            "90ef654ac7ec479bb23ed1479bf64ac1"
          ]
        },
        "id": "4fC3DqPAJefK",
        "outputId": "328ad386-2eb0-4b94-87e2-cf0335cb16b1"
      },
      "execution_count": null,
      "outputs": [
        {
          "output_type": "display_data",
          "data": {
            "text/plain": [
              "  0%|          | 0/100 [00:00<?, ?it/s]"
            ],
            "application/vnd.jupyter.widget-view+json": {
              "version_major": 2,
              "version_minor": 0,
              "model_id": "ad0ce3527b7446268710c60a725b0cdf"
            }
          },
          "metadata": {}
        },
        {
          "output_type": "stream",
          "name": "stdout",
          "text": [
            "Epoch: 1 | train_loss: 2.3740 | train_acc: 0.5687 | test_loss: 1.3444 | test_acc: 0.7947\n",
            "Epoch: 2 | train_loss: 0.8879 | train_acc: 0.8854 | test_loss: 0.7583 | test_acc: 0.8917\n",
            "Epoch: 3 | train_loss: 0.5150 | train_acc: 0.9379 | test_loss: 0.5575 | test_acc: 0.9163\n",
            "Epoch: 4 | train_loss: 0.3631 | train_acc: 0.9569 | test_loss: 0.4592 | test_acc: 0.9245\n",
            "Epoch: 5 | train_loss: 0.2731 | train_acc: 0.9692 | test_loss: 0.3881 | test_acc: 0.9360\n",
            "Epoch: 6 | train_loss: 0.2148 | train_acc: 0.9796 | test_loss: 0.3379 | test_acc: 0.9451\n",
            "Epoch: 7 | train_loss: 0.1747 | train_acc: 0.9823 | test_loss: 0.3138 | test_acc: 0.9385\n",
            "Epoch: 8 | train_loss: 0.1456 | train_acc: 0.9877 | test_loss: 0.2924 | test_acc: 0.9459\n",
            "Epoch: 9 | train_loss: 0.1229 | train_acc: 0.9888 | test_loss: 0.2714 | test_acc: 0.9500\n",
            "Epoch: 10 | train_loss: 0.1069 | train_acc: 0.9908 | test_loss: 0.2591 | test_acc: 0.9476\n",
            "Epoch: 11 | train_loss: 0.0907 | train_acc: 0.9935 | test_loss: 0.2519 | test_acc: 0.9443\n",
            "Epoch: 12 | train_loss: 0.0794 | train_acc: 0.9948 | test_loss: 0.2423 | test_acc: 0.9500\n",
            "Epoch: 13 | train_loss: 0.0708 | train_acc: 0.9946 | test_loss: 0.2352 | test_acc: 0.9508\n",
            "Epoch: 14 | train_loss: 0.0626 | train_acc: 0.9956 | test_loss: 0.2253 | test_acc: 0.9517\n",
            "Epoch: 15 | train_loss: 0.0555 | train_acc: 0.9962 | test_loss: 0.2282 | test_acc: 0.9524\n",
            "Epoch: 16 | train_loss: 0.0494 | train_acc: 0.9969 | test_loss: 0.2170 | test_acc: 0.9499\n",
            "Epoch: 17 | train_loss: 0.0448 | train_acc: 0.9969 | test_loss: 0.2041 | test_acc: 0.9549\n",
            "Epoch: 18 | train_loss: 0.0405 | train_acc: 0.9971 | test_loss: 0.2105 | test_acc: 0.9516\n",
            "Epoch: 19 | train_loss: 0.0368 | train_acc: 0.9975 | test_loss: 0.2045 | test_acc: 0.9524\n",
            "Epoch: 20 | train_loss: 0.0338 | train_acc: 0.9979 | test_loss: 0.2091 | test_acc: 0.9491\n",
            "Early stopping triggered after 20 epochs!\n"
          ]
        }
      ]
    },
    {
      "cell_type": "code",
      "source": [
        "#Save the model\n",
        "torch.save(obj=pretrained_vit.state_dict(), f=models_path)"
      ],
      "metadata": {
        "id": "3t1yLqyPhl96"
      },
      "execution_count": null,
      "outputs": []
    },
    {
      "cell_type": "code",
      "source": [
        "# Plot loss curves of a model\n",
        "def plot_loss_curves(results):\n",
        "    \"\"\"Plots training curves of a results dictionary.\n",
        "\n",
        "    Args:\n",
        "        results (dict): dictionary containing list of values, e.g.\n",
        "            {\"train_loss\": [...],\n",
        "             \"train_acc\": [...],\n",
        "             \"test_loss\": [...],\n",
        "             \"test_acc\": [...]}\n",
        "    \"\"\"\n",
        "    loss = results[\"train_loss\"]\n",
        "    test_loss = results[\"test_loss\"]\n",
        "\n",
        "    accuracy = results[\"train_acc\"]\n",
        "    test_accuracy = results[\"test_acc\"]\n",
        "\n",
        "    epochs = range(len(results[\"train_loss\"]))\n",
        "\n",
        "    plt.figure(figsize=(15, 7))\n",
        "\n",
        "    # Plot loss\n",
        "    plt.subplot(1, 2, 1)\n",
        "    plt.plot(epochs, loss, label=\"train_loss\")\n",
        "    plt.plot(epochs, test_loss, label=\"test_loss\")\n",
        "    plt.title(\"Loss\")\n",
        "    plt.xlabel(\"Epochs\")\n",
        "    plt.legend()\n",
        "\n",
        "    # Plot accuracy\n",
        "    plt.subplot(1, 2, 2)\n",
        "    plt.plot(epochs, accuracy, label=\"train_accuracy\")\n",
        "    plt.plot(epochs, test_accuracy, label=\"test_accuracy\")\n",
        "    plt.title(\"Accuracy\")\n",
        "    plt.xlabel(\"Epochs\")\n",
        "    plt.legend()"
      ],
      "metadata": {
        "id": "YPs4JwIXSxTj"
      },
      "execution_count": null,
      "outputs": []
    },
    {
      "cell_type": "code",
      "source": [
        "plot_loss_curves(pretrained_vit_results)"
      ],
      "metadata": {
        "colab": {
          "base_uri": "https://localhost:8080/",
          "height": 641
        },
        "id": "vNWfvAfzXDzx",
        "outputId": "ad0bb124-4e3f-43c6-a1e4-027992137ac9"
      },
      "execution_count": null,
      "outputs": [
        {
          "output_type": "display_data",
          "data": {
            "text/plain": [
              "<Figure size 1500x700 with 2 Axes>"
            ],
            "image/png": "[encoded data removed]"
          },
          "metadata": {}
        }
      ]
    },
    {
      "cell_type": "code",
      "source": [
        "# Load the model\n",
        "pretrained_vit.load_state_dict(torch.load(models_path))\n",
        "\n",
        "# Perform evaluation on the test set\n",
        "final_test_loss, final_test_acc = test_step(\n",
        "    model=pretrained_vit,\n",
        "    dataloader=test_dataloader_pretrained,\n",
        "    loss_fn=loss_fn,\n",
        "    device=device\n",
        ")\n",
        "\n",
        "print(f\"Final Test Loss: {final_test_loss:.4f}\")\n",
        "print(f\"Final Test Accuracy: {final_test_acc:.4f}\")"
      ],
      "metadata": {
        "id": "FaS-qJtwXic3"
      },
      "execution_count": null,
      "outputs": []
    },
    {
      "cell_type": "code",
      "source": [],
      "metadata": {
        "id": "m8gLOKLDq_rF"
      },
      "execution_count": null,
      "outputs": []
    }
  ]
}